{
 "cells": [
  {
   "cell_type": "markdown",
   "metadata": {},
   "source": [
    "Importing relevant packages from PyTorch"
   ]
  },
  {
   "cell_type": "code",
   "execution_count": 113,
   "metadata": {},
   "outputs": [],
   "source": [
    "#!/usr/bin/env python3\n",
    "# -*- coding: utf-8 -*-\n",
    "\"\"\"\n",
    "Created on Sun Jan 24 16:02:40 2021\n",
    "\n",
    "@author: s2110992\n",
    "\"\"\"\n",
    "\n",
    "import torch\n",
    "import torch.nn as nn\n",
    "import torch.nn.functional as F\n",
    "import torch.optim as optim\n",
    "import matplotlib.pyplot as plt\n",
    "from torchvision import datasets, transforms\n",
    "from torch.utils.data import DataLoader\n",
    "import numpy as np\n",
    "\n",
    "#mnist_data = datasets.MNIST('data',train=True, download = True, transform = transforms.ToTensor())\n",
    "#mnist_data = list(mnist_data)[:4096] #data of size powers of 2 works better\n"
   ]
  },
  {
   "cell_type": "markdown",
   "metadata": {},
   "source": [
    "Simulating Data"
   ]
  },
  {
   "cell_type": "code",
   "execution_count": 114,
   "metadata": {},
   "outputs": [],
   "source": [
    "training_data_size = 10000\n",
    "group_size = training_data_size//2\n",
    "data_size = 100\n",
    "data = []\n",
    "#for i in range(training_data_size):\n",
    "#    data.append(torch.rand(data_size))\n",
    "#data_tensor = torch.rand((training_data_size,data_size))\n",
    "training_set = np.zeros((training_data_size,data_size))\n",
    "training_set[:group_size,:] = np.random.uniform(size =(group_size,data_size))\n",
    "training_set[group_size:,:] = np.random.normal(loc = 0.5, size =(group_size,data_size))\n",
    "#print(training_set[0])\n",
    "training_set = np.random.permutation(training_set)\n",
    "#print(training_set[0])\n",
    "data_tensor = torch.FloatTensor(training_set)\n",
    "#print(data_tensor[-1])"
   ]
  },
  {
   "cell_type": "markdown",
   "metadata": {},
   "source": [
    "Training Data and Training Parameters"
   ]
  },
  {
   "cell_type": "code",
   "execution_count": 115,
   "metadata": {},
   "outputs": [],
   "source": [
    "#Note we can make BATCH_SIZE smaller than training data set then it \n",
    "#does iterative gradient steps.\n",
    "LEARNING_RATE = 1e-3\n",
    "NUM_EPOCHS = 1000\n",
    "BATCH_SIZE = training_data_size"
   ]
  },
  {
   "cell_type": "code",
   "execution_count": 122,
   "metadata": {},
   "outputs": [
    {
     "name": "stdout",
     "output_type": "stream",
     "text": [
      "Autoencoder(\n",
      "  (enc1): Linear(in_features=100, out_features=128, bias=True)\n",
      "  (enc2): Linear(in_features=128, out_features=64, bias=True)\n",
      "  (enc3): Linear(in_features=64, out_features=32, bias=True)\n",
      "  (enc4): Linear(in_features=32, out_features=16, bias=True)\n",
      "  (enc5): Linear(in_features=16, out_features=4, bias=True)\n",
      "  (dec1): Linear(in_features=4, out_features=16, bias=True)\n",
      "  (dec2): Linear(in_features=16, out_features=32, bias=True)\n",
      "  (dec3): Linear(in_features=32, out_features=64, bias=True)\n",
      "  (dec4): Linear(in_features=64, out_features=128, bias=True)\n",
      "  (dec5): Linear(in_features=128, out_features=100, bias=True)\n",
      ")\n"
     ]
    },
    {
     "data": {
      "text/plain": [
       "tensor([0.0000, 0.0055, 0.0000, 0.0000, 0.0085, 0.0000, 0.0000, 0.0929, 0.0378,\n",
       "        0.0000, 0.0000, 0.0034, 0.0000, 0.0000, 0.0000, 0.0000, 0.0000, 0.0000,\n",
       "        0.0000, 0.0000, 0.0297, 0.0000, 0.0356, 0.0000, 0.0000, 0.0000, 0.0275,\n",
       "        0.0488, 0.0221, 0.0979, 0.0690, 0.0000, 0.0336, 0.0000, 0.0555, 0.0482,\n",
       "        0.0000, 0.0000, 0.0915, 0.0297, 0.0836, 0.0538, 0.0212, 0.0476, 0.0000,\n",
       "        0.0360, 0.0262, 0.0000, 0.0000, 0.0320, 0.0000, 0.0474, 0.0000, 0.0000,\n",
       "        0.0000, 0.0420, 0.1263, 0.0000, 0.0000, 0.0249, 0.0000, 0.0000, 0.0000,\n",
       "        0.0256, 0.0029, 0.0000, 0.0517, 0.0393, 0.0434, 0.0038, 0.0755, 0.0000,\n",
       "        0.0929, 0.1162, 0.0229, 0.0558, 0.0821, 0.0475, 0.0227, 0.0000, 0.0000,\n",
       "        0.0901, 0.0112, 0.0000, 0.0000, 0.0000, 0.0659, 0.0286, 0.1097, 0.0000,\n",
       "        0.0516, 0.1037, 0.0041, 0.0000, 0.0000, 0.0000, 0.0404, 0.0000, 0.0000,\n",
       "        0.0000], grad_fn=<ReluBackward0>)"
      ]
     },
     "execution_count": 122,
     "metadata": {},
     "output_type": "execute_result"
    }
   ],
   "source": [
    "# Creating the architecture of the Neural Network\n",
    "\n",
    "class Autoencoder(nn.Module):\n",
    "    def __init__(self):\n",
    "        super(Autoencoder, self).__init__()\n",
    "        # encoder\n",
    "        self.enc1 = nn.Linear(in_features=data_size, out_features=128)\n",
    "        self.enc2 = nn.Linear(in_features=128, out_features = 64) \n",
    "        self.enc3 = nn.Linear(in_features = 64, out_features = 32) #maybe add 64 -> 32 to increase accuracy\n",
    "        self.enc4 = nn.Linear(in_features = 32, out_features = 16)\n",
    "        self.enc5 = nn.Linear(in_features = 16,out_features = 4)\n",
    "        # decoder \n",
    "        self.dec1 = nn.Linear(in_features=4, out_features=16)\n",
    "        self.dec2 = nn.Linear(in_features=16, out_features=32)#maybe add 64 -> 32 to increase accuracy\n",
    "        self.dec3 = nn.Linear(in_features=32, out_features=64)\n",
    "        self.dec4 = nn.Linear(in_features=64, out_features=128)\n",
    "        self.dec5 = nn.Linear(in_features =128, out_features =data_size)\n",
    "    def forward(self, x):\n",
    "        x = F.relu(self.enc1(x))\n",
    "        x = F.relu(self.enc2(x))\n",
    "        x = F.relu(self.enc3(x))\n",
    "        x = F.relu(self.enc4(x))\n",
    "        x = F.relu(self.enc5(x))\n",
    "        \n",
    "        x = F.relu(self.dec1(x))\n",
    "        x = F.relu(self.dec2(x))\n",
    "        x = F.relu(self.dec3(x))\n",
    "        x = F.relu(self.dec4(x))\n",
    "        x = F.relu(self.dec5(x))\n",
    "        return x\n",
    "net = Autoencoder()\n",
    "print(net)\n",
    "net(torch.rand(data_size))"
   ]
  },
  {
   "cell_type": "code",
   "execution_count": 123,
   "metadata": {},
   "outputs": [],
   "source": [
    "#using Mean Square Error as the Loss function.\n",
    "criterion = nn.MSELoss()\n",
    "optimizer = optim.Adam(net.parameters(), lr=LEARNING_RATE)"
   ]
  },
  {
   "cell_type": "code",
   "execution_count": 124,
   "metadata": {},
   "outputs": [
    {
     "name": "stdout",
     "output_type": "stream",
     "text": [
      "running loss= 6171.244535006583 epoch =  0\n",
      "running loss= 6041.854611329734 epoch =  1\n",
      "running loss= 6035.300600282848 epoch =  2\n",
      "running loss= 6006.251295246184 epoch =  3\n",
      "running loss= 5942.666968472302 epoch =  4\n",
      "running loss= 5901.191245667636 epoch =  5\n",
      "running loss= 5885.33065161854 epoch =  6\n",
      "running loss= 5837.620441630483 epoch =  7\n",
      "running loss= 5785.171305067837 epoch =  8\n",
      "running loss= 5754.512824811041 epoch =  9\n",
      "running loss= 5708.664125010371 epoch =  10\n",
      "running loss= 5648.009822152555 epoch =  11\n",
      "running loss= 5626.3119106814265 epoch =  12\n",
      "running loss= 5622.025429286063 epoch =  13\n",
      "running loss= 5618.041031882167 epoch =  14\n",
      "running loss= 5613.145715177059 epoch =  15\n",
      "running loss= 5611.6302113980055 epoch =  16\n",
      "running loss= 5589.336114399135 epoch =  17\n",
      "running loss= 5590.899689532816 epoch =  18\n",
      "running loss= 5583.998833090067 epoch =  19\n",
      "running loss= 5587.64175439626 epoch =  20\n",
      "running loss= 5584.5444390922785 epoch =  21\n",
      "running loss= 5583.790338024497 epoch =  22\n",
      "running loss= 5579.815242692828 epoch =  23\n",
      "running loss= 5581.306965790689 epoch =  24\n",
      "running loss= 5575.605000466108 epoch =  25\n",
      "running loss= 5584.101450800896 epoch =  26\n",
      "running loss= 5577.080232143402 epoch =  27\n",
      "running loss= 5575.057644017041 epoch =  28\n",
      "running loss= 5575.379880852997 epoch =  29\n",
      "running loss= 5573.240490473807 epoch =  30\n",
      "running loss= 5576.901216030121 epoch =  31\n",
      "running loss= 5579.321724437177 epoch =  32\n",
      "running loss= 5579.663247399032 epoch =  33\n",
      "running loss= 5571.367101579905 epoch =  34\n",
      "running loss= 5548.622727893293 epoch =  35\n",
      "running loss= 5533.999749213457 epoch =  36\n",
      "running loss= 5524.247842349112 epoch =  37\n",
      "running loss= 5532.344524338841 epoch =  38\n",
      "running loss= 5530.182638853788 epoch =  39\n",
      "running loss= 5534.03211350739 epoch =  40\n",
      "running loss= 5528.540545389056 epoch =  41\n",
      "running loss= 5527.147215850651 epoch =  42\n",
      "running loss= 5523.89674731344 epoch =  43\n",
      "running loss= 5532.415554776788 epoch =  44\n",
      "running loss= 5527.2325955703855 epoch =  45\n",
      "running loss= 5526.1716246679425 epoch =  46\n",
      "running loss= 5528.530392840505 epoch =  47\n",
      "running loss= 5518.015893355012 epoch =  48\n",
      "running loss= 5524.095336146653 epoch =  49\n",
      "running loss= 5525.411662265658 epoch =  50\n",
      "running loss= 5522.220514409244 epoch =  51\n",
      "running loss= 5520.720729365945 epoch =  52\n",
      "running loss= 5523.1941021978855 epoch =  53\n",
      "running loss= 5525.978551961482 epoch =  54\n",
      "running loss= 5527.423410415649 epoch =  55\n",
      "running loss= 5530.537625819445 epoch =  56\n",
      "running loss= 5527.75696978718 epoch =  57\n",
      "running loss= 5532.789894551039 epoch =  58\n",
      "running loss= 5529.811888411641 epoch =  59\n",
      "running loss= 5525.041722156107 epoch =  60\n",
      "running loss= 5527.4096074178815 epoch =  61\n",
      "running loss= 5527.23940423131 epoch =  62\n",
      "running loss= 5523.52453763783 epoch =  63\n",
      "running loss= 5520.011100105941 epoch =  64\n",
      "running loss= 5518.164575830102 epoch =  65\n",
      "running loss= 5516.108981713653 epoch =  66\n",
      "running loss= 5514.82552678138 epoch =  67\n",
      "running loss= 5513.421539418399 epoch =  68\n",
      "running loss= 5516.220294952393 epoch =  69\n",
      "running loss= 5514.5708545818925 epoch =  70\n",
      "running loss= 5515.749268069863 epoch =  71\n",
      "running loss= 5514.907372370362 epoch =  72\n",
      "running loss= 5523.967230133712 epoch =  73\n",
      "running loss= 5526.6960491761565 epoch =  74\n",
      "running loss= 5525.640315018594 epoch =  75\n",
      "running loss= 5528.896491698921 epoch =  76\n",
      "running loss= 5528.400646671653 epoch =  77\n",
      "running loss= 5525.571812130511 epoch =  78\n",
      "running loss= 5521.5345022156835 epoch =  79\n",
      "running loss= 5515.266362704337 epoch =  80\n",
      "running loss= 5491.508638605475 epoch =  81\n",
      "running loss= 5491.38316386193 epoch =  82\n",
      "running loss= 5489.833626374602 epoch =  83\n",
      "running loss= 5492.572178862989 epoch =  84\n",
      "running loss= 5488.578539632261 epoch =  85\n",
      "running loss= 5488.40935023874 epoch =  86\n",
      "running loss= 5488.715606659651 epoch =  87\n",
      "running loss= 5493.30648817122 epoch =  88\n",
      "running loss= 5490.220495000482 epoch =  89\n",
      "running loss= 5488.545229539275 epoch =  90\n",
      "running loss= 5491.120139248669 epoch =  91\n",
      "running loss= 5487.649081103504 epoch =  92\n",
      "running loss= 5488.719221584499 epoch =  93\n",
      "running loss= 5485.715541400015 epoch =  94\n",
      "running loss= 5483.343692414463 epoch =  95\n",
      "running loss= 5485.064704030752 epoch =  96\n",
      "running loss= 5481.1353737562895 epoch =  97\n",
      "running loss= 5479.842347562313 epoch =  98\n",
      "running loss= 5479.62824780494 epoch =  99\n",
      "running loss= 5484.475852809846 epoch =  100\n",
      "running loss= 5481.601485259831 epoch =  101\n",
      "running loss= 5479.286335974932 epoch =  102\n",
      "running loss= 5476.647556610405 epoch =  103\n",
      "running loss= 5477.086208835244 epoch =  104\n",
      "running loss= 5473.538218535483 epoch =  105\n",
      "running loss= 5474.966971240938 epoch =  106\n",
      "running loss= 5476.87392091006 epoch =  107\n",
      "running loss= 5474.992625690997 epoch =  108\n",
      "running loss= 5475.472800590098 epoch =  109\n",
      "running loss= 5481.38598216325 epoch =  110\n",
      "running loss= 5479.648763805628 epoch =  111\n",
      "running loss= 5482.362368606031 epoch =  112\n",
      "running loss= 5480.813187427819 epoch =  113\n",
      "running loss= 5477.69736327976 epoch =  114\n",
      "running loss= 5476.246575258672 epoch =  115\n",
      "running loss= 5479.443774774671 epoch =  116\n",
      "running loss= 5480.516846269369 epoch =  117\n",
      "running loss= 5477.01812582463 epoch =  118\n",
      "running loss= 5476.3796878010035 epoch =  119\n",
      "running loss= 5475.525859862566 epoch =  120\n",
      "running loss= 5477.567516535521 epoch =  121\n",
      "running loss= 5474.79472950846 epoch =  122\n",
      "running loss= 5473.796967692673 epoch =  123\n",
      "running loss= 5475.062065251172 epoch =  124\n",
      "running loss= 5475.556854039431 epoch =  125\n",
      "running loss= 5470.018498979509 epoch =  126\n",
      "running loss= 5449.077716492116 epoch =  127\n",
      "running loss= 5447.359603226185 epoch =  128\n",
      "running loss= 5445.582057058811 epoch =  129\n",
      "running loss= 5445.290633782744 epoch =  130\n",
      "Finished Training\n",
      "tensor([ 9.4390, -8.2015, -4.7163, 10.3127], grad_fn=<AddBackward0>)\n"
     ]
    }
   ],
   "source": [
    "#Training Step!.\n",
    "loss_vector = np.zeros(NUM_EPOCHS)\n",
    "for epoch in range(NUM_EPOCHS):  # loop over the dataset multiple times\n",
    "\n",
    "    running_loss = 0.0\n",
    "    for i in range(training_data_size):\n",
    "        # get the inputs;\n",
    "        inputs = data_tensor[i]\n",
    "\n",
    "        # zero the parameter gradients\n",
    "        optimizer.zero_grad()\n",
    "\n",
    "        # forward + backward + optimize\n",
    "        outputs = net(inputs)\n",
    "        loss = criterion(outputs, inputs)\n",
    "        loss.backward()\n",
    "        optimizer.step()\n",
    "\n",
    "        # print statistics\n",
    "        running_loss += loss.item()\n",
    "    loss_vector[epoch] = running_loss\n",
    "    if (epoch >=1)&(abs(loss_vector[epoch] - loss_vector[epoch - 1])< 0.1):\n",
    "        break\n",
    "    #if epoch%10 ==0:\n",
    "    \n",
    "    print('running loss=',running_loss, 'epoch = ', epoch)\n",
    "        #if i % 2000 == 1999:    # print every 2000 mini-batches\n",
    "         #   print('[%d, %5d] loss: %.3f' %\n",
    "          #        (epoch + 1, i + 1, running_loss / 2000))\n",
    "           # running_loss = 0.0\n",
    "\n",
    "print('Finished Training')\n",
    "hidden = net.enc5(F.relu(net.enc4(F.relu(net.enc3(F.relu(net.enc2(F.relu(net.enc1(torch.rand(data_size))))))))))\n",
    "print(hidden)"
   ]
  },
  {
   "cell_type": "markdown",
   "metadata": {},
   "source": [
    "Cluster Feature Plot!"
   ]
  },
  {
   "cell_type": "code",
   "execution_count": 133,
   "metadata": {},
   "outputs": [
    {
     "data": {
      "image/png": "[encoded data removed]",
      "text/plain": [
       "<Figure size 432x288 with 1 Axes>"
      ]
     },
     "metadata": {
      "needs_background": "light"
     },
     "output_type": "display_data"
    }
   ],
   "source": [
    "number_of_points = 1000\n",
    "uniform_points = np.random.uniform(size =(number_of_points,data_size))\n",
    "uniform_points = torch.FloatTensor(uniform_points)\n",
    "normal_points = np.random.normal(loc = 0.5,size =(number_of_points,data_size))\n",
    "normal_points = torch.FloatTensor(normal_points)\n",
    "\n",
    "normal_feature1 = np.zeros(number_of_points)\n",
    "normal_feature2 = np.zeros(number_of_points)\n",
    "\n",
    "uniform_feature1 = np.zeros(number_of_points)\n",
    "uniform_feature2 = np.zeros(number_of_points)\n",
    "\n",
    "for i in range(number_of_points):\n",
    "    uniform_feature = net.enc5(F.relu(net.enc4(F.relu(net.enc3(F.relu(net.enc2(F.relu(net.enc1(uniform_points[i])))))))))\n",
    "    normal_feature = net.enc5(F.relu(net.enc4(F.relu(net.enc3(F.relu(net.enc2(F.relu(net.enc1(normal_points[i])))))))))\n",
    "    uniform_feature= uniform_feature.detach().numpy()\n",
    "    normal_feature = normal_feature.detach().numpy()\n",
    "    normal_feature1[i] = normal_feature[1]\n",
    "    normal_feature2[i] = normal_feature[2]\n",
    "    uniform_feature1[i] = uniform_feature[1]\n",
    "    uniform_feature2[i] = uniform_feature[2]\n",
    "    \n",
    "plt.figure()\n",
    "plt.xlabel('Feature Parameter 1')\n",
    "plt.ylabel('Feature Parameter 2')\n",
    "plt.plot(normal_feature1,normal_feature2,'r.')\n",
    "plt.plot(uniform_feature1,uniform_feature2,'b.')\n",
    "plt.show()\n"
   ]
  },
  {
   "cell_type": "markdown",
   "metadata": {},
   "source": [
    "Plot Histogram of Latent Parameters for Normal and Uniformly Distributed Points\n",
    "\n",
    "\n",
    "Plot $L^{2}$ norm between theory and practice (after scale and shifting)\n",
    "\n",
    "Could implement Variational Autoencoder?"
   ]
  },
  {
   "cell_type": "code",
   "execution_count": 134,
   "metadata": {},
   "outputs": [
    {
     "data": {
      "image/png": "[encoded data removed]",
      "text/plain": [
       "<Figure size 432x288 with 1 Axes>"
      ]
     },
     "metadata": {
      "needs_background": "light"
     },
     "output_type": "display_data"
    }
   ],
   "source": [
    "plt.figure()\n",
    "plt.hist(normal_feature2, color = 'red')\n",
    "plt.hist(uniform_feature2, color = 'blue')\n",
    "\n",
    "plt.show()"
   ]
  },
  {
   "cell_type": "code",
   "execution_count": null,
   "metadata": {},
   "outputs": [],
   "source": []
  }
 ],
 "metadata": {
  "kernelspec": {
   "display_name": "Python 3",
   "language": "python",
   "name": "python3"
  },
  "language_info": {
   "codemirror_mode": {
    "name": "ipython",
    "version": 3
   },
   "file_extension": ".py",
   "mimetype": "text/x-python",
   "name": "python",
   "nbconvert_exporter": "python",
   "pygments_lexer": "ipython3",
   "version": "3.7.6"
  }
 },
 "nbformat": 4,
 "nbformat_minor": 4
}
