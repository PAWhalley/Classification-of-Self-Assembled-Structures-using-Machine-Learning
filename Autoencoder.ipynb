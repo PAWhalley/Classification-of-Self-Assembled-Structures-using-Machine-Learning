{
 "cells": [
  {
   "cell_type": "markdown",
   "metadata": {},
   "source": [
    "Importing relevant packages from PyTorch"
   ]
  },
  {
   "cell_type": "code",
   "execution_count": 144,
   "metadata": {},
   "outputs": [],
   "source": [
    "#!/usr/bin/env python3\n",
    "# -*- coding: utf-8 -*-\n",
    "\"\"\"\n",
    "Created on Sun Jan 24 16:02:40 2021\n",
    "\n",
    "@author: s2110992\n",
    "\"\"\"\n",
    "\n",
    "import torch\n",
    "import torch.nn as nn\n",
    "import torch.nn.functional as F\n",
    "import torch.optim as optim\n",
    "import matplotlib.pyplot as plt\n",
    "from torchvision import datasets, transforms\n",
    "from torch.utils.data import DataLoader\n",
    "import numpy as np\n",
    "\n",
    "#mnist_data = datasets.MNIST('data',train=True, download = True, transform = transforms.ToTensor())\n",
    "#mnist_data = list(mnist_data)[:4096] #data of size powers of 2 works better\n"
   ]
  },
  {
   "cell_type": "markdown",
   "metadata": {},
   "source": [
    "Simulating Data"
   ]
  },
  {
   "cell_type": "code",
   "execution_count": 162,
   "metadata": {},
   "outputs": [],
   "source": [
    "training_data_size = 100000\n",
    "group_size = training_data_size//2\n",
    "data_size = 1000\n",
    "data = []\n",
    "#for i in range(training_data_size):\n",
    "#    data.append(torch.rand(data_size))\n",
    "#data_tensor = torch.rand((training_data_size,data_size))\n",
    "training_set = np.zeros((training_data_size,data_size))\n",
    "training_set[:group_size,:] = np.random.uniform(size =(group_size,data_size))\n",
    "training_set[group_size:,:] = np.random.normal(loc = 0.5, size =(group_size,data_size))\n",
    "#print(training_set[0])\n",
    "training_set = np.random.permutation(training_set)\n",
    "#print(training_set[0])\n",
    "data_tensor = torch.FloatTensor(training_set)\n",
    "#print(data_tensor[-1])"
   ]
  },
  {
   "cell_type": "markdown",
   "metadata": {},
   "source": [
    "Training Data and Training Parameters"
   ]
  },
  {
   "cell_type": "code",
   "execution_count": 163,
   "metadata": {},
   "outputs": [],
   "source": [
    "#Note we can make BATCH_SIZE smaller than training data set then it \n",
    "#does iterative gradient steps.\n",
    "LEARNING_RATE = 1e-3\n",
    "NUM_EPOCHS = 1000\n",
    "BATCH_SIZE = training_data_size"
   ]
  },
  {
   "cell_type": "code",
   "execution_count": 165,
   "metadata": {},
   "outputs": [
    {
     "name": "stdout",
     "output_type": "stream",
     "text": [
      "Autoencoder(\n",
      "  (enc1): Linear(in_features=1000, out_features=128, bias=True)\n",
      "  (enc2): Linear(in_features=128, out_features=64, bias=True)\n",
      "  (enc3): Linear(in_features=64, out_features=32, bias=True)\n",
      "  (enc4): Linear(in_features=32, out_features=16, bias=True)\n",
      "  (enc5): Linear(in_features=16, out_features=2, bias=True)\n",
      "  (dec1): Linear(in_features=2, out_features=16, bias=True)\n",
      "  (dec2): Linear(in_features=16, out_features=32, bias=True)\n",
      "  (dec3): Linear(in_features=32, out_features=64, bias=True)\n",
      "  (dec4): Linear(in_features=64, out_features=128, bias=True)\n",
      "  (dec5): Linear(in_features=128, out_features=1000, bias=True)\n",
      ")\n"
     ]
    },
    {
     "data": {
      "text/plain": [
       "tensor([0.0000, 0.0000, 0.0700, 0.0102, 0.0000, 0.0000, 0.0000, 0.0000, 0.0000,\n",
       "        0.0000, 0.0000, 0.0000, 0.0000, 0.0220, 0.0579, 0.0000, 0.0489, 0.0000,\n",
       "        0.0864, 0.0000, 0.0000, 0.0000, 0.0031, 0.0000, 0.0672, 0.0000, 0.0000,\n",
       "        0.1009, 0.0000, 0.0052, 0.0000, 0.0000, 0.0814, 0.0184, 0.0095, 0.0133,\n",
       "        0.0956, 0.0299, 0.0420, 0.0483, 0.0000, 0.0286, 0.0913, 0.0000, 0.0642,\n",
       "        0.0000, 0.0160, 0.0000, 0.0495, 0.0000, 0.0000, 0.0000, 0.0621, 0.0000,\n",
       "        0.0487, 0.0661, 0.0000, 0.0000, 0.0000, 0.0000, 0.0000, 0.0000, 0.1128,\n",
       "        0.0416, 0.0000, 0.1088, 0.0000, 0.0000, 0.0566, 0.0000, 0.0439, 0.0000,\n",
       "        0.0634, 0.0000, 0.0057, 0.0000, 0.0040, 0.0972, 0.0278, 0.0492, 0.0000,\n",
       "        0.0244, 0.0000, 0.0310, 0.0422, 0.0106, 0.0000, 0.0000, 0.0000, 0.0000,\n",
       "        0.0493, 0.0523, 0.0376, 0.0000, 0.0000, 0.0493, 0.1081, 0.0000, 0.0422,\n",
       "        0.0596, 0.0000, 0.0396, 0.0000, 0.0138, 0.0000, 0.0053, 0.1123, 0.0803,\n",
       "        0.0020, 0.0353, 0.0000, 0.1511, 0.0000, 0.0000, 0.0000, 0.0270, 0.0000,\n",
       "        0.0000, 0.0057, 0.0000, 0.0580, 0.0226, 0.0000, 0.0000, 0.0000, 0.0000,\n",
       "        0.0000, 0.0000, 0.0144, 0.0000, 0.0000, 0.0000, 0.0000, 0.0000, 0.0000,\n",
       "        0.0000, 0.0678, 0.0812, 0.1021, 0.0000, 0.0000, 0.0592, 0.0339, 0.0438,\n",
       "        0.0000, 0.0000, 0.0000, 0.0000, 0.0000, 0.0000, 0.0000, 0.0260, 0.0700,\n",
       "        0.0536, 0.0896, 0.1156, 0.0000, 0.0000, 0.0195, 0.0000, 0.0000, 0.0000,\n",
       "        0.0000, 0.0244, 0.0031, 0.0622, 0.0996, 0.0000, 0.0000, 0.0267, 0.0000,\n",
       "        0.0000, 0.0460, 0.0046, 0.0096, 0.0000, 0.0000, 0.0250, 0.0985, 0.0521,\n",
       "        0.1018, 0.0000, 0.0683, 0.0000, 0.0328, 0.0000, 0.0000, 0.0000, 0.1247,\n",
       "        0.0000, 0.0993, 0.0000, 0.1457, 0.0000, 0.0138, 0.0195, 0.0000, 0.0548,\n",
       "        0.0829, 0.0000, 0.0000, 0.0087, 0.0005, 0.1114, 0.1309, 0.0794, 0.0000,\n",
       "        0.0000, 0.0000, 0.0000, 0.0000, 0.0343, 0.0576, 0.0697, 0.0000, 0.0247,\n",
       "        0.0632, 0.0287, 0.0000, 0.1160, 0.0076, 0.0000, 0.0466, 0.0000, 0.1605,\n",
       "        0.0000, 0.0000, 0.0000, 0.0000, 0.0000, 0.0000, 0.1210, 0.0000, 0.0000,\n",
       "        0.0000, 0.0000, 0.0000, 0.0144, 0.0426, 0.0000, 0.0000, 0.0208, 0.0933,\n",
       "        0.0000, 0.0172, 0.0000, 0.0262, 0.0802, 0.0000, 0.0265, 0.0000, 0.0000,\n",
       "        0.0553, 0.0242, 0.0189, 0.0000, 0.0224, 0.1055, 0.0000, 0.0583, 0.0803,\n",
       "        0.0170, 0.0454, 0.0910, 0.0194, 0.0000, 0.0429, 0.0000, 0.0033, 0.0000,\n",
       "        0.0237, 0.0000, 0.0605, 0.0000, 0.0050, 0.0361, 0.0000, 0.0000, 0.0000,\n",
       "        0.0541, 0.0469, 0.0469, 0.0744, 0.0000, 0.0806, 0.0076, 0.0000, 0.0445,\n",
       "        0.0000, 0.0000, 0.0639, 0.0000, 0.0095, 0.0000, 0.0000, 0.0500, 0.0203,\n",
       "        0.0848, 0.0385, 0.0000, 0.0000, 0.0245, 0.1265, 0.0444, 0.0000, 0.0000,\n",
       "        0.0000, 0.0000, 0.0000, 0.0000, 0.0000, 0.0000, 0.0760, 0.0000, 0.0000,\n",
       "        0.0000, 0.0721, 0.0000, 0.0000, 0.0000, 0.0000, 0.0208, 0.0523, 0.0000,\n",
       "        0.0004, 0.0000, 0.0382, 0.0683, 0.0000, 0.0723, 0.0000, 0.0000, 0.0712,\n",
       "        0.0376, 0.0682, 0.0000, 0.0055, 0.0000, 0.0580, 0.0000, 0.0000, 0.0000,\n",
       "        0.0926, 0.1324, 0.0000, 0.0472, 0.0000, 0.0258, 0.0000, 0.0134, 0.0000,\n",
       "        0.0000, 0.1123, 0.0370, 0.0000, 0.0321, 0.0000, 0.0052, 0.0172, 0.0989,\n",
       "        0.0472, 0.0000, 0.0000, 0.0000, 0.0000, 0.0000, 0.0593, 0.0000, 0.0495,\n",
       "        0.0097, 0.0425, 0.0336, 0.0000, 0.0000, 0.0685, 0.0216, 0.0311, 0.1088,\n",
       "        0.0816, 0.0118, 0.0050, 0.0000, 0.0565, 0.0000, 0.0258, 0.0000, 0.0619,\n",
       "        0.0000, 0.0780, 0.0000, 0.0000, 0.0861, 0.0000, 0.0450, 0.0000, 0.0790,\n",
       "        0.0352, 0.1175, 0.0818, 0.1295, 0.0000, 0.0180, 0.0589, 0.0000, 0.0975,\n",
       "        0.0316, 0.0000, 0.0000, 0.0574, 0.0000, 0.0000, 0.0000, 0.0414, 0.0926,\n",
       "        0.0000, 0.0000, 0.0382, 0.0085, 0.0000, 0.0275, 0.0000, 0.0000, 0.0187,\n",
       "        0.0075, 0.0253, 0.0000, 0.0161, 0.0140, 0.0737, 0.0117, 0.0192, 0.0386,\n",
       "        0.0000, 0.0000, 0.0306, 0.0000, 0.0137, 0.0000, 0.0000, 0.0000, 0.0000,\n",
       "        0.0000, 0.0491, 0.0656, 0.0742, 0.0092, 0.0000, 0.0000, 0.0000, 0.0573,\n",
       "        0.0000, 0.0000, 0.0437, 0.0115, 0.0244, 0.0299, 0.0083, 0.0333, 0.0659,\n",
       "        0.0662, 0.0000, 0.0437, 0.0000, 0.0000, 0.0852, 0.0000, 0.0000, 0.0194,\n",
       "        0.0000, 0.0329, 0.0611, 0.0353, 0.0168, 0.0000, 0.0000, 0.0537, 0.0000,\n",
       "        0.0000, 0.0357, 0.0000, 0.0000, 0.0000, 0.0225, 0.0703, 0.1074, 0.0000,\n",
       "        0.0743, 0.0375, 0.0000, 0.0602, 0.0725, 0.0000, 0.0000, 0.0000, 0.1019,\n",
       "        0.0757, 0.0914, 0.0000, 0.0624, 0.0000, 0.0914, 0.0807, 0.0861, 0.0568,\n",
       "        0.0022, 0.1143, 0.0427, 0.0047, 0.0072, 0.0000, 0.0000, 0.0000, 0.1126,\n",
       "        0.0000, 0.0475, 0.0338, 0.1141, 0.0000, 0.0000, 0.0000, 0.0000, 0.0000,\n",
       "        0.0000, 0.0000, 0.0000, 0.0000, 0.0350, 0.0688, 0.0000, 0.0056, 0.0000,\n",
       "        0.0049, 0.0000, 0.0510, 0.0563, 0.0000, 0.0664, 0.0115, 0.0000, 0.0000,\n",
       "        0.0653, 0.0737, 0.0435, 0.0286, 0.0000, 0.1061, 0.1068, 0.0000, 0.0602,\n",
       "        0.0449, 0.0165, 0.0000, 0.0838, 0.0000, 0.0287, 0.0000, 0.0449, 0.0219,\n",
       "        0.0000, 0.0000, 0.0369, 0.0666, 0.0168, 0.0147, 0.1061, 0.0908, 0.0000,\n",
       "        0.0100, 0.0369, 0.0193, 0.0000, 0.0021, 0.0000, 0.0878, 0.0000, 0.0000,\n",
       "        0.0000, 0.0000, 0.0259, 0.0000, 0.0000, 0.0000, 0.0014, 0.0000, 0.0100,\n",
       "        0.0000, 0.0000, 0.0000, 0.0000, 0.0000, 0.0032, 0.0462, 0.0948, 0.0000,\n",
       "        0.0306, 0.0386, 0.0000, 0.0879, 0.0572, 0.0000, 0.0191, 0.0000, 0.0000,\n",
       "        0.0000, 0.0050, 0.0644, 0.0631, 0.0174, 0.0000, 0.0891, 0.0138, 0.0925,\n",
       "        0.0383, 0.1072, 0.0000, 0.0637, 0.0862, 0.0309, 0.0239, 0.1457, 0.0000,\n",
       "        0.0953, 0.0000, 0.0000, 0.0000, 0.0463, 0.1141, 0.0146, 0.1233, 0.0000,\n",
       "        0.0000, 0.0402, 0.1141, 0.0000, 0.0000, 0.1087, 0.0147, 0.0000, 0.0000,\n",
       "        0.0586, 0.0107, 0.0190, 0.0000, 0.0000, 0.0000, 0.0000, 0.0832, 0.0840,\n",
       "        0.0000, 0.0000, 0.0000, 0.0148, 0.0167, 0.0681, 0.0320, 0.0233, 0.0374,\n",
       "        0.0372, 0.0000, 0.1451, 0.0463, 0.0237, 0.0422, 0.0000, 0.0000, 0.0159,\n",
       "        0.0000, 0.0000, 0.0036, 0.0000, 0.0546, 0.0000, 0.0233, 0.0170, 0.0000,\n",
       "        0.0350, 0.0000, 0.0274, 0.0000, 0.0000, 0.0104, 0.0000, 0.0084, 0.0719,\n",
       "        0.0000, 0.0102, 0.0000, 0.0000, 0.0000, 0.0000, 0.0000, 0.0795, 0.0000,\n",
       "        0.0700, 0.0339, 0.0000, 0.0000, 0.0000, 0.0076, 0.0000, 0.0000, 0.0000,\n",
       "        0.0000, 0.0537, 0.0000, 0.0804, 0.0390, 0.0379, 0.0017, 0.0407, 0.0000,\n",
       "        0.0931, 0.0078, 0.0494, 0.0000, 0.0093, 0.0000, 0.0315, 0.0000, 0.0000,\n",
       "        0.0383, 0.0004, 0.0000, 0.0476, 0.1323, 0.0356, 0.0000, 0.0000, 0.0000,\n",
       "        0.0354, 0.0000, 0.0482, 0.0315, 0.0000, 0.0592, 0.0222, 0.0000, 0.0000,\n",
       "        0.0000, 0.0000, 0.0000, 0.0000, 0.0000, 0.0955, 0.0583, 0.0470, 0.0000,\n",
       "        0.0000, 0.0104, 0.0000, 0.0604, 0.0000, 0.0000, 0.0142, 0.0000, 0.0000,\n",
       "        0.0000, 0.0000, 0.0000, 0.0000, 0.0253, 0.0122, 0.0478, 0.0368, 0.1085,\n",
       "        0.0000, 0.0000, 0.0000, 0.0000, 0.0000, 0.0623, 0.0000, 0.0000, 0.0000,\n",
       "        0.0000, 0.0000, 0.0000, 0.0000, 0.0000, 0.0826, 0.0000, 0.0712, 0.0000,\n",
       "        0.0407, 0.0000, 0.0240, 0.0731, 0.0000, 0.0000, 0.0000, 0.0000, 0.0000,\n",
       "        0.0612, 0.0000, 0.0140, 0.0493, 0.0000, 0.0000, 0.0000, 0.0199, 0.0139,\n",
       "        0.0547, 0.0000, 0.0000, 0.0432, 0.0137, 0.0000, 0.0363, 0.0000, 0.0320,\n",
       "        0.0000, 0.0000, 0.1396, 0.0000, 0.0765, 0.0000, 0.0000, 0.1184, 0.0020,\n",
       "        0.0000, 0.0644, 0.0000, 0.0000, 0.1187, 0.1218, 0.0743, 0.0491, 0.0385,\n",
       "        0.0692, 0.0493, 0.0012, 0.0000, 0.0377, 0.0187, 0.0000, 0.0000, 0.0000,\n",
       "        0.0480, 0.0059, 0.0507, 0.0000, 0.0000, 0.0000, 0.0101, 0.0506, 0.0053,\n",
       "        0.0031, 0.0000, 0.0568, 0.0000, 0.0000, 0.0000, 0.0000, 0.0584, 0.0000,\n",
       "        0.0544, 0.0000, 0.0000, 0.0000, 0.0677, 0.1227, 0.0000, 0.0613, 0.0000,\n",
       "        0.0507, 0.0961, 0.0000, 0.0572, 0.0650, 0.1302, 0.0362, 0.1222, 0.0000,\n",
       "        0.0694, 0.0000, 0.0130, 0.0000, 0.0000, 0.0000, 0.0000, 0.0000, 0.1113,\n",
       "        0.0000, 0.0000, 0.0000, 0.0040, 0.0175, 0.0239, 0.0000, 0.1115, 0.0000,\n",
       "        0.0000, 0.0000, 0.0000, 0.0000, 0.0786, 0.0000, 0.0000, 0.0573, 0.0000,\n",
       "        0.0307, 0.0087, 0.0000, 0.0052, 0.0000, 0.0272, 0.0000, 0.0000, 0.0268,\n",
       "        0.0458, 0.0123, 0.0000, 0.1408, 0.0000, 0.0253, 0.0000, 0.0232, 0.0111,\n",
       "        0.0658, 0.0000, 0.0391, 0.0054, 0.0421, 0.0000, 0.0144, 0.0000, 0.0594,\n",
       "        0.0333, 0.1468, 0.0000, 0.0000, 0.0000, 0.0582, 0.0000, 0.0388, 0.0000,\n",
       "        0.0000, 0.0000, 0.0000, 0.0000, 0.0000, 0.0057, 0.0000, 0.0000, 0.0225,\n",
       "        0.0037, 0.0503, 0.0619, 0.0117, 0.0000, 0.0000, 0.0794, 0.1180, 0.0000,\n",
       "        0.0000, 0.1097, 0.0000, 0.0000, 0.0000, 0.0261, 0.0000, 0.0529, 0.0000,\n",
       "        0.0000, 0.0271, 0.0000, 0.0000, 0.0000, 0.0000, 0.0000, 0.0000, 0.0000,\n",
       "        0.0000, 0.0000, 0.0000, 0.0000, 0.0409, 0.0233, 0.0000, 0.0000, 0.0234,\n",
       "        0.0000, 0.0000, 0.0482, 0.1202, 0.0633, 0.0000, 0.0000, 0.0879, 0.0157,\n",
       "        0.0000, 0.0000, 0.0000, 0.0000, 0.0000, 0.0000, 0.0000, 0.0000, 0.0000,\n",
       "        0.0000], grad_fn=<ReluBackward0>)"
      ]
     },
     "execution_count": 165,
     "metadata": {},
     "output_type": "execute_result"
    }
   ],
   "source": [
    "# Creating the architecture of the Neural Network\n",
    "\n",
    "class Autoencoder(nn.Module):\n",
    "    def __init__(self):\n",
    "        super(Autoencoder, self).__init__()\n",
    "        # encoder\n",
    "        self.enc1 = nn.Linear(in_features=data_size, out_features=128)\n",
    "        self.enc2 = nn.Linear(in_features=128, out_features = 64) \n",
    "        self.enc3 = nn.Linear(in_features = 64, out_features = 32) #maybe add 64 -> 32 to increase accuracy\n",
    "        self.enc4 = nn.Linear(in_features = 32, out_features = 16)\n",
    "        self.enc5 = nn.Linear(in_features = 16,out_features = 2)\n",
    "        # decoder \n",
    "        self.dec1 = nn.Linear(in_features=2, out_features=16)\n",
    "        self.dec2 = nn.Linear(in_features=16, out_features=32)#maybe add 64 -> 32 to increase accuracy\n",
    "        self.dec3 = nn.Linear(in_features=32, out_features=64)\n",
    "        self.dec4 = nn.Linear(in_features=64, out_features=128)\n",
    "        self.dec5 = nn.Linear(in_features =128, out_features =data_size)\n",
    "    def forward(self, x):\n",
    "        x = F.relu(self.enc1(x))\n",
    "        x = F.relu(self.enc2(x))\n",
    "        x = F.relu(self.enc3(x))\n",
    "        x = F.relu(self.enc4(x))\n",
    "        x = F.relu(self.enc5(x))\n",
    "        \n",
    "        x = F.relu(self.dec1(x))\n",
    "        x = F.relu(self.dec2(x))\n",
    "        x = F.relu(self.dec3(x))\n",
    "        x = F.relu(self.dec4(x))\n",
    "        x = F.relu(self.dec5(x))\n",
    "        return x\n",
    "net = Autoencoder()\n",
    "print(net)\n",
    "net(torch.rand(data_size))"
   ]
  },
  {
   "cell_type": "code",
   "execution_count": 166,
   "metadata": {},
   "outputs": [],
   "source": [
    "#using Mean Square Error as the Loss function.\n",
    "criterion = nn.MSELoss()\n",
    "optimizer = optim.Adam(net.parameters(), lr=LEARNING_RATE)"
   ]
  },
  {
   "cell_type": "code",
   "execution_count": null,
   "metadata": {},
   "outputs": [
    {
     "name": "stdout",
     "output_type": "stream",
     "text": [
      "running loss= 60849.520952537656 epoch =  0\n"
     ]
    }
   ],
   "source": [
    "#Training Step!.\n",
    "loss_vector = np.zeros(NUM_EPOCHS)\n",
    "for epoch in range(NUM_EPOCHS):  # loop over the dataset multiple times\n",
    "\n",
    "    running_loss = 0.0\n",
    "    for i in range(training_data_size):\n",
    "        # get the inputs;\n",
    "        inputs = data_tensor[i]\n",
    "\n",
    "        # zero the parameter gradients\n",
    "        optimizer.zero_grad()\n",
    "\n",
    "        # forward + backward + optimize\n",
    "        outputs = net(inputs)\n",
    "        loss = criterion(outputs, inputs)\n",
    "        loss.backward()\n",
    "        optimizer.step()\n",
    "\n",
    "        # print statistics\n",
    "        running_loss += loss.item()\n",
    "    loss_vector[epoch] = running_loss\n",
    "    if (epoch >=5)&(abs(loss_vector[epoch] - loss_vector[epoch - 5])< 0.1):\n",
    "        break\n",
    "    #if epoch%10 ==0:\n",
    "    \n",
    "    print('running loss=',running_loss, 'epoch = ', epoch)\n",
    "        #if i % 2000 == 1999:    # print every 2000 mini-batches\n",
    "         #   print('[%d, %5d] loss: %.3f' %\n",
    "          #        (epoch + 1, i + 1, running_loss / 2000))\n",
    "           # running_loss = 0.0\n",
    "\n",
    "print('Finished Training')\n",
    "low_dim_feat = net.enc5(F.relu(net.enc4(F.relu(net.enc3(F.relu(net.enc2(F.relu(net.enc1(torch.rand(data_size))))))))))\n",
    "print(low_dim_feat)"
   ]
  },
  {
   "cell_type": "markdown",
   "metadata": {},
   "source": [
    "Cluster Feature Plot!"
   ]
  },
  {
   "cell_type": "code",
   "execution_count": 150,
   "metadata": {},
   "outputs": [
    {
     "data": {
      "image/png": "[encoded data removed]",
      "text/plain": [
       "<Figure size 432x288 with 1 Axes>"
      ]
     },
     "metadata": {
      "needs_background": "light"
     },
     "output_type": "display_data"
    }
   ],
   "source": [
    "number_of_points = 1000\n",
    "uniform_points = np.random.uniform(size =(number_of_points,data_size))\n",
    "uniform_points = torch.FloatTensor(uniform_points)\n",
    "normal_points = np.random.normal(loc = 0.5,size =(number_of_points,data_size))\n",
    "normal_points = torch.FloatTensor(normal_points)\n",
    "\n",
    "normal_feature1 = np.zeros(number_of_points)\n",
    "normal_feature2 = np.zeros(number_of_points)\n",
    "\n",
    "uniform_feature1 = np.zeros(number_of_points)\n",
    "uniform_feature2 = np.zeros(number_of_points)\n",
    "\n",
    "for i in range(number_of_points):\n",
    "    uniform_feature = net.enc5(F.relu(net.enc4(F.relu(net.enc3(F.relu(net.enc2(F.relu(net.enc1(uniform_points[i])))))))))\n",
    "    normal_feature = net.enc5(F.relu(net.enc4(F.relu(net.enc3(F.relu(net.enc2(F.relu(net.enc1(normal_points[i])))))))))\n",
    "    uniform_feature= uniform_feature.detach().numpy()\n",
    "    normal_feature = normal_feature.detach().numpy()\n",
    "    normal_feature1[i] = normal_feature[0]\n",
    "    normal_feature2[i] = normal_feature[1]\n",
    "    uniform_feature1[i] = uniform_feature[0]\n",
    "    uniform_feature2[i] = uniform_feature[1]\n",
    "    \n",
    "plt.figure()\n",
    "plt.xlabel('Feature Parameter 1')\n",
    "plt.ylabel('Feature Parameter 2')\n",
    "plt.plot(normal_feature1,normal_feature2,'r.')\n",
    "plt.plot(uniform_feature1,uniform_feature2,'b.')\n",
    "plt.show()\n"
   ]
  },
  {
   "cell_type": "markdown",
   "metadata": {},
   "source": [
    "Plot Histogram of Latent Parameters for Normal and Uniformly Distributed Points\n",
    "\n",
    "\n",
    "Plot $L^{2}$ norm between theory and practice (after scale and shifting)\n",
    "\n",
    "Could implement Variational Autoencoder?\n",
    "\n",
    "Semi-Supervised -> label normal and uniform distributions (a notion of how ordered a system is)"
   ]
  },
  {
   "cell_type": "code",
   "execution_count": 161,
   "metadata": {},
   "outputs": [
    {
     "data": {
      "image/png": "[encoded data removed]",
      "text/plain": [
       "<Figure size 432x288 with 1 Axes>"
      ]
     },
     "metadata": {
      "needs_background": "light"
     },
     "output_type": "display_data"
    }
   ],
   "source": [
    "plt.figure()\n",
    "plt.hist(normal_feature2, bins = 35,color = 'red')\n",
    "plt.hist(uniform_feature2, color = 'blue')\n",
    "\n",
    "\n",
    "\n",
    "plt.show() #make the bar sizes the same!"
   ]
  },
  {
   "cell_type": "code",
   "execution_count": null,
   "metadata": {},
   "outputs": [],
   "source": []
  }
 ],
 "metadata": {
  "kernelspec": {
   "display_name": "Python 3",
   "language": "python",
   "name": "python3"
  },
  "language_info": {
   "codemirror_mode": {
    "name": "ipython",
    "version": 3
   },
   "file_extension": ".py",
   "mimetype": "text/x-python",
   "name": "python",
   "nbconvert_exporter": "python",
   "pygments_lexer": "ipython3",
   "version": "3.7.6"
  }
 },
 "nbformat": 4,
 "nbformat_minor": 4
}
