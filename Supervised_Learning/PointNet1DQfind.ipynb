{
 "cells": [
  {
   "cell_type": "code",
   "execution_count": 1,
   "id": "arctic-performance",
   "metadata": {},
   "outputs": [],
   "source": [
    "# Create the network\n",
    "import torch\n",
    "import torch.autograd as autograd\n",
    "import torch.nn as nn\n",
    "import torch.nn.functional as F\n",
    "from torch.utils.data import DataLoader, TensorDataset\n",
    "\n",
    "import numpy as np\n",
    "from sklearn.model_selection import train_test_split\n",
    "\n",
    "\n",
    "point_count = 100\n",
    "cloud_count = 10000\n",
    "\n",
    "class PointNet1D(nn.Module):\n",
    "    def __init__(self, input_dim, output_dim):\n",
    "        super(PointNet1D, self).__init__()\n",
    "        self.conv1 = nn.Conv1d(input_dim, 64, 1)\n",
    "        self.conv2 = nn.Conv1d(64, 128, 1)\n",
    "        self.conv3 = nn.Conv1d(128, 1024, 1)\n",
    "        self.fc1 = nn.Linear(1024, 512)\n",
    "        self.fc2 = nn.Linear(512, 256)\n",
    "        self.fc3 = nn.Linear(256, output_dim)\n",
    "        self.bn1 = nn.BatchNorm1d(64)\n",
    "        self.bn2 = nn.BatchNorm1d(128)\n",
    "        self.bn3 = nn.BatchNorm1d(1024)\n",
    "        self.bn4 = nn.BatchNorm1d(512)\n",
    "        self.bn5 = nn.BatchNorm1d(256)\n",
    "        self.bn6 = nn.BatchNorm1d(output_dim)\n",
    "        \n",
    "        self.drop = nn.Dropout(p=0.3)\n",
    "\n",
    "\n",
    "    def forward(self, x):\n",
    "        x = F.relu(self.bn1(self.conv1(x)))\n",
    "        x = F.relu(self.bn2(self.conv2(x)))\n",
    "        x = F.relu(self.bn3(self.conv3(x)))\n",
    "        x = torch.max(x, 2, keepdim=True)[0]\n",
    "        x = x.view(-1, 1024)\n",
    "\n",
    "        x = F.relu(self.bn4(self.fc1(x)))\n",
    "        x = F.relu(self.bn5(self.fc2(x)))\n",
    "        x = self.fc3(x)\n",
    "\n",
    "        #x = F.relu(self.drop(x))\n",
    "        x = F.relu(self.bn6(self.drop(x)))\n",
    "        #x = F.softmax(x, dim=1)\n",
    "        return x\n",
    "\n",
    "net = PointNet1D(point_count, 1)"
   ]
  },
  {
   "cell_type": "code",
   "execution_count": 2,
   "id": "narrow-negotiation",
   "metadata": {},
   "outputs": [],
   "source": [
    "# Function to calculate Q\n",
    "def charfun(x, y, R):\n",
    "    if abs(x-y) <= R:\n",
    "        return 1\n",
    "    return 0\n",
    "\n",
    "# Create clouds\n",
    "R = 0.1        #What do different values of R change?\n",
    "data = []\n",
    "Qs = []\n",
    "i = 0\n",
    "for k in range(cloud_count):\n",
    "    if i == 0:\n",
    "        i = 1\n",
    "        x = np.random.normal(0.5 , 0.5, size = point_count) # C\n",
    "    else:\n",
    "        x = np.random.uniform(0,1,point_count)\n",
    "        i = 0\n",
    "    Q = sum(charfun(k, j, R) for k in x for j in x)\n",
    "    Q *= 1/(len(x)**2)\n",
    "    #print(Q)\n",
    "    Qs.append(Q)\n",
    "    data.append(x)\n",
    "\n",
    "#Turn data in torch tensor\n",
    "Qs = torch.Tensor(Qs)\n",
    "data = torch.Tensor(data)\n",
    "\n",
    "# Reshape data for network\n",
    "data.unsqueeze_(2)\n",
    "Qs.unsqueeze_(1)\n",
    "\n",
    "# Split into train/ test\n",
    "X_train, X_test, y_train, y_test = train_test_split(\n",
    "         data, Qs, test_size=0.1, random_state=42)\n",
    "\n",
    "#Training set batches\n",
    "trainset = TensorDataset(X_train, y_train)\n",
    "\n",
    "trainloader = torch.utils.data.DataLoader(trainset, batch_size=64,\n",
    "                                          shuffle=True, num_workers=2, drop_last = True)\n",
    "\n",
    "#Test set batches\n",
    "#testset = TensorDataset(X_test, y_test)\n",
    "\n",
    "#testloader = torch.utils.data.DataLoader(testset, batch_size=32,\n",
    "#                                          shuffle=True, num_workers=2,  drop_last = True)"
   ]
  },
  {
   "cell_type": "code",
   "execution_count": 14,
   "id": "demonstrated-eating",
   "metadata": {},
   "outputs": [],
   "source": [
    "# Loss function and optimizer\n",
    "import torch.optim as optim\n",
    "\n",
    "criterion = nn.MSELoss()\n",
    "optimizer = optim.Adam(net.parameters(), lr=0.0001)\n",
    "\n",
    "# Functions to find loss and accuracy\n",
    "def find_loss():\n",
    "    output = net(X_test)\n",
    "    val_loss = criterion(output, y_test)\n",
    "    return val_loss.item()\n",
    "\n",
    "def accuracy_fun(output, labels):\n",
    "    total, correct = 0.0 , 0\n",
    "    for i in range(len(y_test)):\n",
    "        if abs(output[i].item() - labels[i].item()) < 2 * R/5:  # This is very generous and crudge to measure the accuracy\n",
    "            correct += 1\n",
    "        total += 1\n",
    "    return 100 * correct / total"
   ]
  },
  {
   "cell_type": "code",
   "execution_count": 4,
   "id": "brazilian-overview",
   "metadata": {},
   "outputs": [
    {
     "name": "stdout",
     "output_type": "stream",
     "text": [
      "[1,    64] loss: 0.332\n",
      "[1,   128] loss: 0.162\n",
      "[2,    64] loss: 0.081\n",
      "[2,   128] loss: 0.042\n",
      "[3,    64] loss: 0.024\n",
      "[3,   128] loss: 0.021\n",
      "[4,    64] loss: 0.020\n",
      "[4,   128] loss: 0.017\n",
      "[5,    64] loss: 0.017\n",
      "[5,   128] loss: 0.014\n",
      "[6,    64] loss: 0.012\n",
      "[6,   128] loss: 0.009\n",
      "[7,    64] loss: 0.010\n",
      "[7,   128] loss: 0.008\n",
      "[8,    64] loss: 0.007\n",
      "[8,   128] loss: 0.008\n",
      "[9,    64] loss: 0.007\n",
      "[9,   128] loss: 0.007\n",
      "[10,    64] loss: 0.006\n",
      "[10,   128] loss: 0.006\n",
      "[11,    64] loss: 0.008\n",
      "[11,   128] loss: 0.007\n",
      "[12,    64] loss: 0.006\n",
      "[12,   128] loss: 0.006\n",
      "[13,    64] loss: 0.006\n",
      "[13,   128] loss: 0.006\n",
      "[14,    64] loss: 0.010\n",
      "[14,   128] loss: 0.008\n",
      "[15,    64] loss: 0.006\n",
      "[15,   128] loss: 0.006\n",
      "[16,    64] loss: 0.005\n",
      "[16,   128] loss: 0.005\n",
      "[17,    64] loss: 0.005\n",
      "[17,   128] loss: 0.005\n",
      "[18,    64] loss: 0.005\n",
      "[18,   128] loss: 0.004\n",
      "[19,    64] loss: 0.005\n",
      "[19,   128] loss: 0.005\n",
      "[20,    64] loss: 0.004\n",
      "[20,   128] loss: 0.005\n",
      "[21,    64] loss: 0.004\n",
      "[21,   128] loss: 0.004\n",
      "[22,    64] loss: 0.004\n",
      "[22,   128] loss: 0.005\n",
      "[23,    64] loss: 0.004\n",
      "[23,   128] loss: 0.004\n",
      "[24,    64] loss: 0.005\n",
      "[24,   128] loss: 0.004\n",
      "[25,    64] loss: 0.004\n",
      "[25,   128] loss: 0.004\n",
      "[26,    64] loss: 0.006\n",
      "[26,   128] loss: 0.005\n",
      "[27,    64] loss: 0.005\n",
      "[27,   128] loss: 0.005\n",
      "[28,    64] loss: 0.004\n",
      "[28,   128] loss: 0.004\n",
      "[29,    64] loss: 0.005\n",
      "[29,   128] loss: 0.005\n",
      "[30,    64] loss: 0.004\n",
      "[30,   128] loss: 0.004\n",
      "Finished Training\n"
     ]
    }
   ],
   "source": [
    "# Training\n",
    "training_loss = []\n",
    "validep_loss = []\n",
    "trainingep_loss = []\n",
    "validation_loss = []\n",
    "#accuracy = []\n",
    "for epoch in range(30):  # loop over the dataset multiple times\n",
    "    ep_counter, ep_loss = 0, 0.0\n",
    "    running_loss = 0.0\n",
    "    for i, data in enumerate(trainloader, 0):\n",
    "        # get the inputs; data is a list of [inputs, labels]\n",
    "        inputs, labels = data\n",
    "\n",
    "        # zero the parameter gradients\n",
    "        optimizer.zero_grad()\n",
    "\n",
    "        # forward + backward + optimize\n",
    "        outputs = net(inputs)\n",
    "        loss = criterion(outputs, labels)\n",
    "        loss.backward()\n",
    "        optimizer.step()\n",
    "        training_loss.append(loss.detach().item())\n",
    "        \n",
    "        # print statistics\n",
    "        running_loss += loss.item()\n",
    "        ep_loss += loss.item()\n",
    "        ep_counter += 1\n",
    "        if i % 64 == 63:    # print every 200 mini-batches\n",
    "            print('[%d, %5d] loss: %.3f' %\n",
    "                  (epoch + 1, i + 1, running_loss / 64))\n",
    "            training_loss.append(running_loss / 64)\n",
    "            running_loss = 0.0\n",
    "            #accuracy.append(accuracy_fun(outputs, labels))\n",
    "        validation_loss.append(find_loss())\n",
    "        \n",
    "    validep_loss.append(find_loss())\n",
    "    trainingep_loss.append(ep_loss/ep_counter)\n",
    "    ep_counter, ep_loss = 0, 0.0\n",
    "\n",
    "print('Finished Training')"
   ]
  },
  {
   "cell_type": "code",
   "execution_count": 15,
   "id": "level-techno",
   "metadata": {},
   "outputs": [
    {
     "name": "stdout",
     "output_type": "stream",
     "text": [
      "Accuracy of the network on the 10000 test images: 68 %\n"
     ]
    }
   ],
   "source": [
    "# Test final accuracy\n",
    "outputs = net(X_test)\n",
    "print('Accuracy of the network on the 10000 test images: %d %%' % \n",
    "          accuracy_fun(outputs, y_test))"
   ]
  },
  {
   "cell_type": "code",
   "execution_count": 13,
   "id": "lightweight-chemical",
   "metadata": {
    "scrolled": false
   },
   "outputs": [
    {
     "data": {
      "text/plain": [
       "<matplotlib.legend.Legend at 0x7fa2416c54d0>"
      ]
     },
     "execution_count": 13,
     "metadata": {},
     "output_type": "execute_result"
    },
    {
     "data": {
      "image/png": "[encoded data removed]",
      "text/plain": [
       "<Figure size 864x720 with 1 Axes>"
      ]
     },
     "metadata": {
      "needs_background": "light"
     },
     "output_type": "display_data"
    }
   ],
   "source": [
    "# Print out relevant graphs\n",
    "import matplotlib.pyplot as plt\n",
    "plt.figure(figsize=(12,10))\n",
    "plt.title('Loss against number of iterations through network (10,000 clouds, 100 points)') \n",
    "plt.xlabel('Batch')                                              \n",
    "plt.ylabel('Loss (Cross Entropy)') \n",
    "plt.plot(validation_loss, label = \"Validation loss\")\n",
    "plt.plot(training_loss, label = \"Training loss\")\n",
    "plt.legend()"
   ]
  },
  {
   "cell_type": "code",
   "execution_count": 7,
   "id": "statutory-beast",
   "metadata": {},
   "outputs": [
    {
     "data": {
      "text/plain": [
       "<matplotlib.legend.Legend at 0x7fa24179ea10>"
      ]
     },
     "execution_count": 7,
     "metadata": {},
     "output_type": "execute_result"
    },
    {
     "data": {
      "image/png": "[encoded data removed]",
      "text/plain": [
       "<Figure size 864x720 with 1 Axes>"
      ]
     },
     "metadata": {
      "needs_background": "light"
     },
     "output_type": "display_data"
    }
   ],
   "source": [
    "# And another one\n",
    "plt.figure(figsize=(12,10))\n",
    "plt.title('Loss against Epoch (10,000 clouds, 100 points)') \n",
    "plt.xlabel('Epoch')                                              \n",
    "plt.ylabel('Loss (Cross Entropy)') \n",
    "plt.plot(validep_loss, label = \"Validation eq loss\")\n",
    "plt.plot(trainingep_loss, label = \"Training ep loss\")\n",
    "plt.legend()"
   ]
  },
  {
   "cell_type": "code",
   "execution_count": null,
   "id": "obvious-surgeon",
   "metadata": {},
   "outputs": [],
   "source": []
  }
 ],
 "metadata": {
  "kernelspec": {
   "display_name": "Python 3",
   "language": "python",
   "name": "python3"
  },
  "language_info": {
   "codemirror_mode": {
    "name": "ipython",
    "version": 3
   },
   "file_extension": ".py",
   "mimetype": "text/x-python",
   "name": "python",
   "nbconvert_exporter": "python",
   "pygments_lexer": "ipython3",
   "version": "3.7.9"
  }
 },
 "nbformat": 4,
 "nbformat_minor": 5
}
