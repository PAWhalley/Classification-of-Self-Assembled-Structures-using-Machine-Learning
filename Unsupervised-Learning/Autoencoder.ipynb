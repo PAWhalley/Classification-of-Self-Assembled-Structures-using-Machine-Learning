{
 "cells": [
  {
   "cell_type": "markdown",
   "metadata": {},
   "source": [
    "Importing relevant packages from PyTorch"
   ]
  },
  {
   "cell_type": "code",
   "execution_count": 144,
   "metadata": {},
   "outputs": [],
   "source": [
    "#!/usr/bin/env python3\n",
    "# -*- coding: utf-8 -*-\n",
    "\"\"\"\n",
    "Created on Sun Jan 24 16:02:40 2021\n",
    "\n",
    "@author: s2110992\n",
    "\"\"\"\n",
    "\n",
    "import torch\n",
    "import torch.nn as nn\n",
    "import torch.nn.functional as F\n",
    "import torch.optim as optim\n",
    "import matplotlib.pyplot as plt\n",
    "from torchvision import datasets, transforms\n",
    "from torch.utils.data import DataLoader\n",
    "import numpy as np\n",
    "\n",
    "#mnist_data = datasets.MNIST('data',train=True, download = True, transform = transforms.ToTensor())\n",
    "#mnist_data = list(mnist_data)[:4096] #data of size powers of 2 works better\n"
   ]
  },
  {
   "cell_type": "markdown",
   "metadata": {},
   "source": [
    "Simulating Data"
   ]
  },
  {
   "cell_type": "code",
   "execution_count": 222,
   "metadata": {},
   "outputs": [],
   "source": [
    "training_data_size = 10000\n",
    "group_size = training_data_size//2\n",
    "data_size = 100\n",
    "data = []\n",
    "#for i in range(training_data_size):\n",
    "#    data.append(torch.rand(data_size))\n",
    "#data_tensor = torch.rand((training_data_size,data_size))\n",
    "training_set = np.zeros((training_data_size,data_size))\n",
    "training_set[:group_size,:] = np.random.uniform(size =(group_size,data_size))\n",
    "training_set[group_size:,:] = np.random.normal(loc = 0.5, size =(group_size,data_size))\n",
    "#print(training_set[0])\n",
    "training_set = np.random.permutation(training_set)\n",
    "#print(training_set[0])\n",
    "data_tensor = torch.FloatTensor(training_set)\n",
    "#print(data_tensor[-1])"
   ]
  },
  {
   "cell_type": "markdown",
   "metadata": {},
   "source": [
    "Training Data and Training Parameters"
   ]
  },
  {
   "cell_type": "code",
   "execution_count": 223,
   "metadata": {},
   "outputs": [],
   "source": [
    "#Note we can make BATCH_SIZE smaller than training data set then it \n",
    "#does iterative gradient steps.\n",
    "LEARNING_RATE = 1e-3\n",
    "NUM_ITERS = 1000\n",
    "BATCH_SIZE = training_data_size"
   ]
  },
  {
   "cell_type": "code",
   "execution_count": 224,
   "metadata": {},
   "outputs": [
    {
     "name": "stdout",
     "output_type": "stream",
     "text": [
      "Autoencoder(\n",
      "  (enc1): Linear(in_features=100, out_features=128, bias=True)\n",
      "  (enc2): Linear(in_features=128, out_features=64, bias=True)\n",
      "  (enc3): Linear(in_features=64, out_features=32, bias=True)\n",
      "  (enc4): Linear(in_features=32, out_features=16, bias=True)\n",
      "  (enc5): Linear(in_features=16, out_features=2, bias=True)\n",
      "  (dec1): Linear(in_features=2, out_features=16, bias=True)\n",
      "  (dec2): Linear(in_features=16, out_features=32, bias=True)\n",
      "  (dec3): Linear(in_features=32, out_features=64, bias=True)\n",
      "  (dec4): Linear(in_features=64, out_features=128, bias=True)\n",
      "  (dec5): Linear(in_features=128, out_features=100, bias=True)\n",
      ")\n"
     ]
    },
    {
     "data": {
      "text/plain": [
       "tensor([0.0000, 0.0930, 0.0000, 0.0000, 0.0000, 0.0404, 0.0617, 0.0058, 0.0000,\n",
       "        0.0000, 0.0351, 0.0661, 0.0000, 0.0911, 0.0000, 0.0000, 0.0905, 0.0000,\n",
       "        0.0000, 0.0000, 0.0000, 0.0000, 0.0253, 0.0417, 0.0000, 0.0000, 0.0000,\n",
       "        0.0000, 0.0055, 0.0029, 0.0000, 0.0000, 0.1607, 0.0051, 0.0000, 0.0768,\n",
       "        0.0000, 0.1357, 0.0671, 0.0000, 0.0284, 0.0000, 0.0000, 0.0000, 0.0639,\n",
       "        0.0000, 0.0000, 0.0000, 0.0221, 0.0000, 0.0911, 0.0044, 0.0000, 0.0000,\n",
       "        0.0474, 0.0000, 0.0000, 0.0000, 0.0000, 0.0000, 0.0000, 0.0000, 0.0000,\n",
       "        0.0000, 0.0156, 0.0000, 0.0000, 0.0000, 0.0000, 0.0601, 0.1123, 0.0000,\n",
       "        0.0106, 0.0000, 0.0523, 0.0000, 0.0000, 0.0000, 0.0304, 0.0000, 0.0000,\n",
       "        0.0000, 0.0000, 0.0000, 0.0000, 0.0168, 0.0751, 0.0635, 0.0000, 0.0196,\n",
       "        0.0026, 0.0000, 0.0000, 0.0899, 0.0697, 0.0620, 0.0284, 0.0000, 0.0000,\n",
       "        0.1127], grad_fn=<ReluBackward0>)"
      ]
     },
     "execution_count": 224,
     "metadata": {},
     "output_type": "execute_result"
    }
   ],
   "source": [
    "# Creating the architecture of the Neural Network\n",
    "\n",
    "class Autoencoder(nn.Module):\n",
    "    def __init__(self):\n",
    "        super(Autoencoder, self).__init__()\n",
    "        # encoder\n",
    "        self.enc1 = nn.Linear(in_features=data_size, out_features=128)\n",
    "        self.enc2 = nn.Linear(in_features=128, out_features = 64) \n",
    "        self.enc3 = nn.Linear(in_features = 64, out_features = 32) #maybe add 64 -> 32 to increase accuracy\n",
    "        self.enc4 = nn.Linear(in_features = 32, out_features = 16)\n",
    "        self.enc5 = nn.Linear(in_features = 16,out_features = 2)\n",
    "        # decoder \n",
    "        self.dec1 = nn.Linear(in_features=2, out_features=16)\n",
    "        self.dec2 = nn.Linear(in_features=16, out_features=32)#maybe add 64 -> 32 to increase accuracy\n",
    "        self.dec3 = nn.Linear(in_features=32, out_features=64)\n",
    "        self.dec4 = nn.Linear(in_features=64, out_features=128)\n",
    "        self.dec5 = nn.Linear(in_features =128, out_features =data_size)\n",
    "    def forward(self, x):\n",
    "        x = F.relu(self.enc1(x))\n",
    "        x = F.relu(self.enc2(x))\n",
    "        x = F.relu(self.enc3(x))\n",
    "        x = F.relu(self.enc4(x))\n",
    "        x = F.relu(self.enc5(x))\n",
    "        \n",
    "        x = F.relu(self.dec1(x))\n",
    "        x = F.relu(self.dec2(x))\n",
    "        x = F.relu(self.dec3(x))\n",
    "        x = F.relu(self.dec4(x))\n",
    "        x = F.relu(self.dec5(x))\n",
    "        return x\n",
    "net = Autoencoder()\n",
    "print(net)\n",
    "net(torch.rand(data_size))"
   ]
  },
  {
   "cell_type": "code",
   "execution_count": 225,
   "metadata": {},
   "outputs": [],
   "source": [
    "#using Mean Square Error as the Loss function.\n",
    "criterion = nn.MSELoss()\n",
    "optimizer = optim.Adam(net.parameters(), lr=LEARNING_RATE)"
   ]
  },
  {
   "cell_type": "code",
   "execution_count": 226,
   "metadata": {},
   "outputs": [
    {
     "name": "stdout",
     "output_type": "stream",
     "text": [
      "running loss= 6326.861489288509 epoch =  0\n",
      "running loss= 6199.014556750655 epoch =  1\n",
      "running loss= 6194.966318182647 epoch =  2\n",
      "running loss= 6193.623000629246 epoch =  3\n",
      "running loss= 6192.7413754835725 epoch =  4\n",
      "running loss= 6192.15874312073 epoch =  5\n",
      "running loss= 6186.252272203565 epoch =  6\n",
      "running loss= 6167.011599756777 epoch =  7\n",
      "running loss= 6166.721302293241 epoch =  8\n",
      "running loss= 6166.440850332379 epoch =  9\n",
      "running loss= 6166.0899510756135 epoch =  10\n",
      "running loss= 6165.857026323676 epoch =  11\n",
      "running loss= 6165.601254820824 epoch =  12\n",
      "running loss= 6155.932672157884 epoch =  13\n",
      "running loss= 6139.523905679584 epoch =  14\n",
      "running loss= 6139.4064672365785 epoch =  15\n",
      "running loss= 6139.24206224829 epoch =  16\n",
      "running loss= 6138.935539282858 epoch =  17\n",
      "running loss= 6114.994682364166 epoch =  18\n",
      "running loss= 6110.245283253491 epoch =  19\n",
      "running loss= 6089.898713588715 epoch =  20\n",
      "running loss= 6089.8321945518255 epoch =  21\n",
      "running loss= 6089.767433963716 epoch =  22\n",
      "running loss= 6089.701188698411 epoch =  23\n",
      "running loss= 6089.552394479513 epoch =  24\n",
      "running loss= 6089.51309684664 epoch =  25\n",
      "running loss= 6089.513097509742 epoch =  26\n",
      "running loss= 6089.513097509742 epoch =  27\n",
      "running loss= 6089.513097509742 epoch =  28\n",
      "Finished Training\n",
      "tensor([-0.0391, -0.0935], grad_fn=<AddBackward0>)\n"
     ]
    }
   ],
   "source": [
    "#Training Step!.\n",
    "loss_vector = np.zeros(NUM_ITERS)\n",
    "for epoch in range(NUM_ITERS):  # loop over the dataset multiple times\n",
    "\n",
    "    running_loss = 0.0\n",
    "    for i in range(training_data_size):\n",
    "        # get the inputs\n",
    "        inputs = data_tensor[i]\n",
    "\n",
    "        # zero the parameter gradients\n",
    "        optimizer.zero_grad()\n",
    "\n",
    "        # forward + backward + optimize\n",
    "        outputs = net(inputs)\n",
    "        loss = criterion(outputs, inputs)\n",
    "        loss.backward()\n",
    "        optimizer.step()\n",
    "\n",
    "        #summing loss to work out current loss.\n",
    "        running_loss += loss.item()\n",
    "    loss_vector[epoch] = running_loss\n",
    "    if (epoch >=10)&(abs(loss_vector[epoch] - loss_vector[epoch - 5])< 0.1)&(abs(loss_vector[epoch] - loss_vector[epoch - 10])<0.1):\n",
    "        break\n",
    "    #if epoch%10 ==0:\n",
    "    print('running loss=',running_loss, 'epoch = ', epoch)\n",
    "    \n",
    "print('Finished Training')\n",
    "low_dim_feat = net.enc5(F.relu(net.enc4(F.relu(net.enc3(F.relu(net.enc2(F.relu(net.enc1(torch.rand(data_size))))))))))\n",
    "print(low_dim_feat)"
   ]
  },
  {
   "cell_type": "markdown",
   "metadata": {},
   "source": [
    "Cluster Feature Plot!"
   ]
  },
  {
   "cell_type": "code",
   "execution_count": 233,
   "metadata": {},
   "outputs": [
    {
     "data": {
      "image/png": "[encoded data removed]",
      "text/plain": [
       "<Figure size 432x288 with 1 Axes>"
      ]
     },
     "metadata": {
      "needs_background": "light"
     },
     "output_type": "display_data"
    }
   ],
   "source": [
    "number_of_points = 1000\n",
    "\n",
    "uniform_points = np.random.uniform(size =(number_of_points,data_size))\n",
    "uniform_points = torch.FloatTensor(uniform_points)\n",
    "normal_points = np.random.normal(loc = 0.5,size =(number_of_points,data_size))\n",
    "normal_points = torch.FloatTensor(normal_points)\n",
    "\n",
    "normal_feature1 = np.zeros(number_of_points)\n",
    "normal_feature2 = np.zeros(number_of_points)\n",
    "\n",
    "uniform_feature1 = np.zeros(number_of_points)\n",
    "uniform_feature2 = np.zeros(number_of_points)\n",
    "\n",
    "for i in range(number_of_points):\n",
    "    uniform_feature = net.enc5(F.relu(net.enc4(F.relu(net.enc3(F.relu(net.enc2(F.relu(net.enc1(uniform_points[i])))))))))\n",
    "    normal_feature = net.enc5(F.relu(net.enc4(F.relu(net.enc3(F.relu(net.enc2(F.relu(net.enc1(normal_points[i])))))))))\n",
    "    uniform_feature= uniform_feature.detach().numpy()\n",
    "    normal_feature = normal_feature.detach().numpy()\n",
    "    normal_feature1[i] = normal_feature[0]\n",
    "    normal_feature2[i] = normal_feature[1]\n",
    "    uniform_feature1[i] = uniform_feature[0]\n",
    "    uniform_feature2[i] = uniform_feature[1]\n",
    "    \n",
    "plt.figure()\n",
    "plt.xlabel('Feature Parameter 1')\n",
    "plt.ylabel('Feature Parameter 2')\n",
    "plt.plot(normal_feature1,normal_feature2,'r.')\n",
    "plt.plot(uniform_feature1,uniform_feature2,'b.')\n",
    "plt.show()\n"
   ]
  },
  {
   "cell_type": "markdown",
   "metadata": {},
   "source": [
    "Plot Histogram of Latent Parameters for Normal and Uniformly Distributed Points\n",
    "\n",
    "\n",
    "Plot $L^{2}$ norm between theory and practice (after scale and shifting)\n",
    "\n",
    "Could implement Variational Autoencoder?\n",
    "\n",
    "Semi-Supervised -> label normal and uniform distributions (a notion of how ordered a system is)"
   ]
  },
  {
   "cell_type": "code",
   "execution_count": 236,
   "metadata": {},
   "outputs": [
    {
     "data": {
      "image/png": "[encoded data removed]",
      "text/plain": [
       "<Figure size 432x288 with 1 Axes>"
      ]
     },
     "metadata": {
      "needs_background": "light"
     },
     "output_type": "display_data"
    }
   ],
   "source": [
    "plt.figure()\n",
    "bins = np.linspace(-0.1, -0.07, 100)\n",
    "plt.hist(normal_feature2, bins,color = 'red',label = 'Normally Distributed Data')\n",
    "plt.hist(uniform_feature2, bins,color = 'blue', label = 'Uniformly Distributed Data')\n",
    "plt.legend(loc='upper right')\n",
    "plt.show() #make the bar sizes the same!\n"
   ]
  },
  {
   "cell_type": "code",
   "execution_count": null,
   "metadata": {},
   "outputs": [],
   "source": []
  }
 ],
 "metadata": {
  "kernelspec": {
   "display_name": "Python 3",
   "language": "python",
   "name": "python3"
  },
  "language_info": {
   "codemirror_mode": {
    "name": "ipython",
    "version": 3
   },
   "file_extension": ".py",
   "mimetype": "text/x-python",
   "name": "python",
   "nbconvert_exporter": "python",
   "pygments_lexer": "ipython3",
   "version": "3.7.6"
  }
 },
 "nbformat": 4,
 "nbformat_minor": 4
}
