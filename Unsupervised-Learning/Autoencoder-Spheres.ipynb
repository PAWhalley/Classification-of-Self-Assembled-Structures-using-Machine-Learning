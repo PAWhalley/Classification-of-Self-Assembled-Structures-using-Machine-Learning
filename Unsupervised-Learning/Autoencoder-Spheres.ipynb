{
 "cells": [
  {
   "cell_type": "markdown",
   "metadata": {},
   "source": [
    "Importing relevant packages from PyTorch"
   ]
  },
  {
   "cell_type": "code",
   "execution_count": 29,
   "metadata": {},
   "outputs": [],
   "source": [
    "#!/usr/bin/env python3\n",
    "# -*- coding: utf-8 -*-\n",
    "\"\"\"\n",
    "Created on Sun Jan 24 16:02:40 2021\n",
    "\n",
    "@author: s2110992\n",
    "\"\"\"\n",
    "\n",
    "import torch\n",
    "import torch.nn as nn\n",
    "import torch.nn.functional as F\n",
    "import torch.optim as optim\n",
    "import matplotlib.pyplot as plt\n",
    "from torchvision import datasets, transforms\n",
    "from torch.utils.data import DataLoader\n",
    "import numpy as np\n"
   ]
  },
  {
   "cell_type": "markdown",
   "metadata": {},
   "source": [
    "Simulating Data"
   ]
  },
  {
   "cell_type": "code",
   "execution_count": 30,
   "metadata": {},
   "outputs": [],
   "source": [
    "def return_sphere(r,m):\n",
    "    noise_parameter = 0.05 #amount of noise away from a true sphere.\n",
    "    x_eps = np.random.normal(size = m)*noise_parameter\n",
    "    y_eps = np.random.normal(size = m)*noise_parameter\n",
    "    z_eps = np.random.normal(size = m)*noise_parameter\n",
    "    # create dataset\n",
    "    Phi = 2*np.pi*np.random.rand(m) - np.pi\n",
    "    Theta = np.pi*np.random.rand(m) - 0.5*np.pi\n",
    "    X = r*(1+x_eps)*np.cos(Theta)*np.cos(Phi)\n",
    "    Y = r*(1+y_eps)*np.cos(Theta)*np.sin(Phi)\n",
    "    Z = r*(1+z_eps)*np.sin(Theta)\n",
    "    data_sphere = np.array([X,Y,Z])\n",
    "    return data_sphere\n",
    "def return_ellipsoid(m,x_stretch,y_stretch,z_stretch):\n",
    "    noise_parameter = 0.05 #amount of noise away from a true sphere.\n",
    "    a_x = x_stretch#x-direction stretch\n",
    "    b_y = y_stretch#y-direction stretch\n",
    "    c_z  = z_stretch#z-direction stretch\n",
    "    x_eps = np.random.normal(size = m)*noise_parameter\n",
    "    y_eps = np.random.normal(size = m)*noise_parameter\n",
    "    z_eps = np.random.normal(size = m)*noise_parameter\n",
    "    # create dataset\n",
    "    Phi = 2*np.pi*np.random.rand(m) - np.pi\n",
    "    Theta = np.pi*np.random.rand(m) - 0.5*np.pi\n",
    "    X = a_x*(1+x_eps)*np.cos(Theta)*np.cos(Phi)\n",
    "    Y = b_y*(1+y_eps)*np.cos(Theta)*np.sin(Phi)\n",
    "    Z = c_z*(1+z_eps)*np.sin(Theta)\n",
    "    data_ellipsoid = np.array([X,Y,Z])\n",
    "    return data_ellipsoid"
   ]
  },
  {
   "cell_type": "code",
   "execution_count": 31,
   "metadata": {},
   "outputs": [],
   "source": [
    "training_data_size = 1000\n",
    "group_size = training_data_size//2\n",
    "data_size = 10000\n",
    "#print(np.shape(return_sphere(100)))\n",
    "training_set = np.zeros((training_data_size,3,data_size))\n",
    "for i in range(group_size):\n",
    "    training_set[i,:,:] = return_sphere(np.random.uniform(low = 1,high = 10),data_size)\n",
    "    stretch_factor = np.random.uniform(low = 10, high = 50)\n",
    "    training_set[group_size+i,:,:] = return_ellipsoid(data_size,stretch_factor,np.random.uniform(low = 1,high = 10),1/stretch_factor)\n",
    "#training_set[:group_size,:] = np.random.uniform(size =(group_size,data_size))\n",
    "#training_set[group_size:,:] = np.random.normal(size =(group_size,data_size))\n",
    "#print(training_set[0])\n",
    "training_set = np.random.permutation(training_set)\n",
    "#print(training_set[0])\n",
    "data_tensor = torch.FloatTensor(training_set)\n",
    "#print(data_tensor[-1])\n",
    "#x-stretch,y-stretch,z-stretch -> all in same data."
   ]
  },
  {
   "cell_type": "markdown",
   "metadata": {},
   "source": [
    "Training Data and Training Parameters"
   ]
  },
  {
   "cell_type": "code",
   "execution_count": 32,
   "metadata": {},
   "outputs": [],
   "source": [
    "#Note we can make BATCH_SIZE smaller than training data set then it \n",
    "#does iterative gradient steps.\n",
    "LEARNING_RATE = 1e-3\n",
    "NUM_ITERS = 100\n",
    "BATCH_SIZE = training_data_size"
   ]
  },
  {
   "cell_type": "code",
   "execution_count": 33,
   "metadata": {},
   "outputs": [
    {
     "name": "stdout",
     "output_type": "stream",
     "text": [
      "Autoencoder(\n",
      "  (enc1): Linear(in_features=10000, out_features=128, bias=True)\n",
      "  (enc2): Linear(in_features=128, out_features=16, bias=True)\n",
      "  (enc3): Linear(in_features=16, out_features=4, bias=True)\n",
      "  (dec1): Linear(in_features=4, out_features=16, bias=True)\n",
      "  (dec2): Linear(in_features=16, out_features=128, bias=True)\n",
      "  (dec3): Linear(in_features=128, out_features=10000, bias=True)\n",
      ")\n"
     ]
    },
    {
     "data": {
      "text/plain": [
       "tensor([[0.0801, 0.0000, 0.0000,  ..., 0.0000, 0.0000, 0.1256],\n",
       "        [0.0790, 0.0000, 0.0000,  ..., 0.0000, 0.0000, 0.1263],\n",
       "        [0.0805, 0.0000, 0.0000,  ..., 0.0000, 0.0000, 0.1270]],\n",
       "       grad_fn=<ReluBackward0>)"
      ]
     },
     "execution_count": 33,
     "metadata": {},
     "output_type": "execute_result"
    }
   ],
   "source": [
    "# Creating the architecture of the Neural Network\n",
    "\n",
    "class Autoencoder(nn.Module):\n",
    "    def __init__(self):\n",
    "        super(Autoencoder, self).__init__()\n",
    "        # encoder\n",
    "        self.enc1 = nn.Linear(in_features=data_size, out_features=128)\n",
    "        self.enc2 = nn.Linear(in_features = 128, out_features = 16)\n",
    "        self.enc3 = nn.Linear(in_features = 16,out_features = 4)\n",
    "        # decoder \n",
    "        self.dec1 = nn.Linear(in_features=4, out_features=16)\n",
    "        self.dec2 = nn.Linear(in_features=16, out_features=128)\n",
    "        self.dec3 = nn.Linear(in_features =128, out_features =data_size)\n",
    "    def forward(self, x):\n",
    "        x = F.relu(self.enc1(x))\n",
    "        x = F.relu(self.enc2(x))\n",
    "        x = F.relu(self.enc3(x))\n",
    "\n",
    "        \n",
    "        x = F.relu(self.dec1(x))\n",
    "        x = F.relu(self.dec2(x))\n",
    "        x = F.relu(self.dec3(x))\n",
    "        return x\n",
    "net = Autoencoder()\n",
    "print(net)\n",
    "net(torch.rand(3,data_size))"
   ]
  },
  {
   "cell_type": "code",
   "execution_count": 34,
   "metadata": {},
   "outputs": [],
   "source": [
    "#using Mean Square Error as the Loss function.\n",
    "criterion = nn.MSELoss()\n",
    "optimizer = optim.Adam(net.parameters(), lr=LEARNING_RATE)"
   ]
  },
  {
   "cell_type": "code",
   "execution_count": 35,
   "metadata": {},
   "outputs": [
    {
     "name": "stdout",
     "output_type": "stream",
     "text": [
      "running loss= 50792.63616871834 epoch =  0\n",
      "running loss= 50789.410125643015 epoch =  1\n",
      "running loss= 50788.557924836874 epoch =  2\n",
      "running loss= 50787.95982116461 epoch =  3\n",
      "running loss= 50788.54399996996 epoch =  4\n",
      "running loss= 50787.02022701502 epoch =  5\n",
      "running loss= 50792.053306251764 epoch =  6\n",
      "running loss= 50780.702934622765 epoch =  7\n",
      "running loss= 50817.65041697025 epoch =  8\n",
      "running loss= 50785.815679073334 epoch =  9\n",
      "running loss= 50785.663892775774 epoch =  10\n",
      "running loss= 50785.59223344922 epoch =  11\n",
      "running loss= 50785.55257767439 epoch =  12\n",
      "running loss= 50785.54979765415 epoch =  13\n",
      "running loss= 50785.49442124367 epoch =  14\n",
      "running loss= 50785.47392049432 epoch =  15\n",
      "running loss= 50785.45943579078 epoch =  16\n",
      "running loss= 50785.459429740906 epoch =  17\n",
      "running loss= 50785.457803189754 epoch =  18\n",
      "running loss= 50785.43792057037 epoch =  19\n",
      "running loss= 50785.43562793732 epoch =  20\n",
      "running loss= 50785.42943042517 epoch =  21\n",
      "running loss= 50785.49495860934 epoch =  22\n",
      "running loss= 50785.70061761141 epoch =  23\n",
      "running loss= 50784.9606346786 epoch =  24\n",
      "running loss= 50783.69135662913 epoch =  25\n",
      "running loss= 50783.897596776485 epoch =  26\n",
      "running loss= 50782.45228880644 epoch =  27\n",
      "running loss= 50772.158967942 epoch =  28\n",
      "running loss= 50757.18332016468 epoch =  29\n",
      "running loss= 50745.7659842968 epoch =  30\n",
      "running loss= 50774.10181301832 epoch =  31\n",
      "running loss= 50732.250311255455 epoch =  32\n",
      "running loss= 50718.18132725358 epoch =  33\n",
      "running loss= 50697.484772890806 epoch =  34\n",
      "running loss= 50699.08326202631 epoch =  35\n",
      "running loss= 50714.163953244686 epoch =  36\n",
      "running loss= 50692.909903109074 epoch =  37\n",
      "running loss= 50778.29907056689 epoch =  38\n",
      "running loss= 50704.16506385803 epoch =  39\n",
      "running loss= 50684.443661659956 epoch =  40\n",
      "running loss= 50679.536568671465 epoch =  41\n",
      "running loss= 50695.27385622263 epoch =  42\n",
      "running loss= 50669.28335174918 epoch =  43\n",
      "running loss= 50689.17583441734 epoch =  44\n",
      "running loss= 50719.266677707434 epoch =  45\n",
      "running loss= 50709.21909046173 epoch =  46\n",
      "running loss= 50683.865159124136 epoch =  47\n",
      "running loss= 50655.125648379326 epoch =  48\n",
      "running loss= 50658.56839337945 epoch =  49\n",
      "running loss= 50792.26349002123 epoch =  50\n",
      "running loss= 50676.506253004074 epoch =  51\n",
      "running loss= 50657.6851028502 epoch =  52\n",
      "running loss= 50648.03836169839 epoch =  53\n",
      "running loss= 50638.678372085094 epoch =  54\n",
      "running loss= 50648.58939307928 epoch =  55\n",
      "running loss= 50679.93446522951 epoch =  56\n",
      "running loss= 50686.66596314311 epoch =  57\n",
      "running loss= 50631.88121908903 epoch =  58\n",
      "running loss= 50880.068836182356 epoch =  59\n",
      "running loss= 50655.091848134995 epoch =  60\n",
      "running loss= 50652.82289260626 epoch =  61\n",
      "running loss= 50634.83050939441 epoch =  62\n",
      "running loss= 50620.81676867604 epoch =  63\n",
      "running loss= 50599.231952011585 epoch =  64\n",
      "running loss= 50678.19732776284 epoch =  65\n",
      "running loss= 50658.32655784488 epoch =  66\n",
      "running loss= 50631.47546622157 epoch =  67\n",
      "running loss= 50619.69811433554 epoch =  68\n",
      "running loss= 50609.27954643965 epoch =  69\n",
      "running loss= 50716.0372479558 epoch =  70\n",
      "running loss= 50690.625691622496 epoch =  71\n",
      "running loss= 50630.816004663706 epoch =  72\n",
      "running loss= 50637.230870097876 epoch =  73\n",
      "running loss= 50652.360021322966 epoch =  74\n",
      "running loss= 50618.95107674599 epoch =  75\n",
      "running loss= 50734.99867975712 epoch =  76\n",
      "running loss= 50631.4210549593 epoch =  77\n",
      "running loss= 50617.18756580353 epoch =  78\n",
      "running loss= 50608.1503624022 epoch =  79\n",
      "running loss= 50601.177999675274 epoch =  80\n",
      "running loss= 50610.13947626948 epoch =  81\n",
      "running loss= 50640.865160524845 epoch =  82\n",
      "running loss= 50617.976566910744 epoch =  83\n",
      "running loss= 50587.80971521139 epoch =  84\n",
      "running loss= 50585.80680394173 epoch =  85\n",
      "running loss= 50621.46388217807 epoch =  86\n",
      "running loss= 50605.733050495386 epoch =  87\n",
      "running loss= 50619.72570243478 epoch =  88\n",
      "running loss= 50636.103281229734 epoch =  89\n",
      "running loss= 50601.234115332365 epoch =  90\n",
      "running loss= 50581.16080066562 epoch =  91\n",
      "running loss= 50617.75461831689 epoch =  92\n",
      "running loss= 50671.41327980161 epoch =  93\n",
      "running loss= 50658.215970009565 epoch =  94\n",
      "running loss= 50722.345222353935 epoch =  95\n",
      "running loss= 50709.38760262728 epoch =  96\n",
      "running loss= 50621.65090033412 epoch =  97\n",
      "running loss= 50607.07649502158 epoch =  98\n",
      "running loss= 50630.24663707614 epoch =  99\n",
      "Finished Training\n"
     ]
    }
   ],
   "source": [
    "#Training Step!.\n",
    "loss_vector = np.zeros(NUM_ITERS)\n",
    "for epoch in range(NUM_ITERS):  # loop over the dataset multiple times\n",
    "\n",
    "    running_loss = 0.0\n",
    "    for i in range(training_data_size):\n",
    "        # get the inputs\n",
    "        inputs = data_tensor[i]\n",
    "\n",
    "        # zero the parameter gradients\n",
    "        optimizer.zero_grad()\n",
    "\n",
    "        # forward + backward + optimize\n",
    "        outputs = net(inputs)\n",
    "        loss = criterion(outputs, inputs)\n",
    "        loss.backward()\n",
    "        optimizer.step()\n",
    "\n",
    "        #summing loss to work out current loss.\n",
    "        running_loss += loss.item()\n",
    "    loss_vector[epoch] = running_loss\n",
    "    if (epoch >=10)&(abs(loss_vector[epoch] - loss_vector[epoch - 5])< 0.01)&(abs(loss_vector[epoch] - loss_vector[epoch - 10])<0.01):\n",
    "        break\n",
    "    #if epoch%10 ==0:\n",
    "    print('running loss=',running_loss, 'epoch = ', epoch)\n",
    "    \n",
    "print('Finished Training')\n",
    "low_dim_feat = net.enc3(F.relu(net.enc2(F.relu(net.enc1(torch.rand(data_size))))))\n"
   ]
  },
  {
   "cell_type": "markdown",
   "metadata": {},
   "source": [
    "Cluster Feature Plot!"
   ]
  },
  {
   "cell_type": "code",
   "execution_count": 44,
   "metadata": {},
   "outputs": [
    {
     "name": "stdout",
     "output_type": "stream",
     "text": [
      "[[ -86.935814    -1.2786772  -43.609707     3.6756392]\n",
      " [-129.4654      -1.87869    -64.62131      4.8151865]\n",
      " [ -84.63441     -1.2462087  -42.472706     3.6139748]]\n"
     ]
    },
    {
     "data": {
      "image/png": "[encoded data removed]",
      "text/plain": [
       "<Figure size 432x288 with 1 Axes>"
      ]
     },
     "metadata": {
      "needs_background": "light"
     },
     "output_type": "display_data"
    }
   ],
   "source": [
    "from mpl_toolkits.mplot3d import Axes3D\n",
    "number_of_points = 1000\n",
    "\n",
    "sphere_points = np.zeros((number_of_points,3,data_size))\n",
    "ellipsoid_points = np.zeros((number_of_points,3,data_size))\n",
    "for i in range(number_of_points):\n",
    "    sphere_points[i,:,:] = return_sphere(np.random.uniform(low = 1,high = 10),data_size)\n",
    "    stretch_factor = np.random.uniform(low = 10, high = 50)\n",
    "    ellipsoid_points[i,:,:] = return_ellipsoid(data_size,stretch_factor,np.random.uniform(low = 1,high = 10),1/stretch_factor)\n",
    "    \n",
    "\n",
    "sphere_points = torch.FloatTensor(sphere_points)\n",
    "#3d points each feature and see if they split up.\n",
    "\n",
    "\n",
    "ellipsoid_points = torch.FloatTensor(ellipsoid_points)\n",
    "\n",
    "sphere_feature1 = np.zeros(number_of_points)\n",
    "sphere_feature2 = np.zeros(number_of_points)\n",
    "sphere_feature3 = np.zeros(number_of_points)\n",
    "\n",
    "ellipsoid_feature1 = np.zeros(number_of_points)\n",
    "ellipsoid_feature2 = np.zeros(number_of_points)\n",
    "ellipsoid_feature3 = np.zeros(number_of_points)\n",
    "\n",
    "feature_number = 3\n",
    "for i in range(number_of_points):\n",
    "    sphere_feature = net.enc3(F.relu(net.enc2(F.relu(net.enc1(sphere_points[i])))))\n",
    "    ellipsoid_feature = net.enc3(F.relu(net.enc2(F.relu(net.enc1(ellipsoid_points[i])))))\n",
    "    sphere_feature= sphere_feature.detach().numpy()\n",
    "    ellipsoid_feature = ellipsoid_feature.detach().numpy()\n",
    "    sphere_feature1[i] = sphere_feature[0][feature_number]\n",
    "    sphere_feature2[i] = sphere_feature[1][feature_number]\n",
    "    sphere_feature3[i] = sphere_feature[2][feature_number]\n",
    "    ellipsoid_feature1[i] = ellipsoid_feature[0][feature_number]\n",
    "    ellipsoid_feature2[i] = ellipsoid_feature[1][feature_number]\n",
    "    ellipsoid_feature3[i] = ellipsoid_feature[2][feature_number]\n",
    "print(sphere_feature)\n",
    "#m, b = np. polyfit(normal_feature1, normal_feature2, 1)  \n",
    "plt.figure()\n",
    "#3d plot\n",
    "ax = plt.axes(projection='3d')\n",
    "ax.scatter(sphere_feature1,sphere_feature2,sphere_feature3,label='Sphere')\n",
    "ax.scatter(ellipsoid_feature1,ellipsoid_feature2,ellipsoid_feature3,label = 'Ellipsoid')\n",
    "ax.set_title('Low-Dimensional Feature 2')\n",
    "ax.set_xlabel('x')\n",
    "ax.set_ylabel('y')\n",
    "ax.set_zlabel('z')\n",
    "ax.legend()\n",
    "plt.savefig('feature2.png')\n",
    "#plt.figure()\n",
    "#plt.plot(sphere_feature2,sphere_feature3,'r.',label = 'Sphere')\n",
    "#plt.plot(ellipsoid_feature2,ellipsoid_feature3,'b.',label = 'Ellipsoid')\n"
   ]
  },
  {
   "cell_type": "markdown",
   "metadata": {},
   "source": [
    "Implement a batch method rather than looping through the entire training set?\n",
    "\n",
    "\n",
    "Plot $L^{2}$ norm between theory and practice (after scale and shifting)\n",
    "\n",
    "Could implement Variational Autoencoder/Diffusion Maps?\n",
    "\n",
    "Semi-Supervised -> label normal and uniform distributions (a notion of how ordered a system is)"
   ]
  },
  {
   "cell_type": "code",
   "execution_count": 9,
   "metadata": {},
   "outputs": [
    {
     "data": {
      "image/png": "[encoded data removed]",
      "text/plain": [
       "<Figure size 432x288 with 1 Axes>"
      ]
     },
     "metadata": {
      "needs_background": "light"
     },
     "output_type": "display_data"
    }
   ],
   "source": [
    "plt.figure()\n",
    "bins = np.linspace(-50, 50, 500)\n",
    "plt.hist(sphere_feature2,bins,color = 'blue', label = 'Sphere Data')\n",
    "plt.hist(ellipsoid_feature2,bins,color = 'red',label = 'ellipsoid Data')\n",
    "\n",
    "plt.legend(loc='upper right')\n",
    "plt.show() #make the bar sizes the same!\n"
   ]
  },
  {
   "cell_type": "code",
   "execution_count": null,
   "metadata": {},
   "outputs": [],
   "source": []
  }
 ],
 "metadata": {
  "kernelspec": {
   "display_name": "Python 3",
   "language": "python",
   "name": "python3"
  },
  "language_info": {
   "codemirror_mode": {
    "name": "ipython",
    "version": 3
   },
   "file_extension": ".py",
   "mimetype": "text/x-python",
   "name": "python",
   "nbconvert_exporter": "python",
   "pygments_lexer": "ipython3",
   "version": "3.7.6"
  }
 },
 "nbformat": 4,
 "nbformat_minor": 4
}
