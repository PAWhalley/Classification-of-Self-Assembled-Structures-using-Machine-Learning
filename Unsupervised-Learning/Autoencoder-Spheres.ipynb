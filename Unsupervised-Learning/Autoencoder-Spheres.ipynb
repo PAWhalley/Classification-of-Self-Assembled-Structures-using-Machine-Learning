{
 "cells": [
  {
   "cell_type": "markdown",
   "metadata": {},
   "source": [
    "Importing relevant packages from PyTorch"
   ]
  },
  {
   "cell_type": "code",
   "execution_count": 1,
   "metadata": {},
   "outputs": [],
   "source": [
    "#!/usr/bin/env python3\n",
    "# -*- coding: utf-8 -*-\n",
    "\"\"\"\n",
    "Created on Sun Jan 24 16:02:40 2021\n",
    "\n",
    "@author: s2110992\n",
    "\"\"\"\n",
    "\n",
    "import torch\n",
    "import torch.nn as nn\n",
    "import torch.nn.functional as F\n",
    "import torch.optim as optim\n",
    "import matplotlib.pyplot as plt\n",
    "from torchvision import datasets, transforms\n",
    "from torch.utils.data import DataLoader\n",
    "import numpy as np\n"
   ]
  },
  {
   "cell_type": "markdown",
   "metadata": {},
   "source": [
    "Simulating Data"
   ]
  },
  {
   "cell_type": "code",
   "execution_count": 2,
   "metadata": {},
   "outputs": [],
   "source": [
    "def random_rotation_matrix():\n",
    "    theta = np.arccos(2*np.random.uniform(low = 0,high = 1)-1)\n",
    "    phi = np.random.uniform(low = 0,high = 2*np.pi)\n",
    "    u = np.array([np.sin(theta)*np.cos(phi),np.sin(theta)*np.sin(phi),np.cos(theta)])\n",
    "    theta = np.random.uniform(low = 0,high = 2*np.pi)\n",
    "    A = np.zeros((3,3))\n",
    "    A[0][0] = np.cos(theta) + (u[0]**2)*(1-np.cos(theta))\n",
    "    A[0][1] = u[0]*u[1]*(1-np.cos(theta)) - u[2]*np.sin(theta)\n",
    "    A[0][2] = u[0]*u[2]*(1-np.cos(theta)) + u[1]*np.sin(theta)\n",
    "    A[1][0] = u[1]*u[0]*(1-np.cos(theta)) + u[2]*np.sin(theta)\n",
    "    A[1][1] = np.cos(theta) + (u[1]**2)*(1-np.cos(theta))\n",
    "    A[1][2] = u[1]*u[2]*(1-np.cos(theta)) - u[0]*np.sin(theta)\n",
    "    A[2][0] = u[2]*u[0]*(1-np.cos(theta)) - u[1]*np.sin(theta)\n",
    "    A[2][1] = u[2]*u[1]*(1-np.cos(theta)) + u[0]*np.sin(theta)\n",
    "    A[2][2] = np.cos(theta) + (u[2]**2)*(1-np.cos(theta))\n",
    "    return A"
   ]
  },
  {
   "cell_type": "code",
   "execution_count": 3,
   "metadata": {},
   "outputs": [],
   "source": [
    "def return_sphere_grid(r,m):\n",
    "    \n",
    "    theta = 2*np.pi*np.linspace(0,1,num=m)\n",
    "    phi = np.arccos(1 - 2 * np.linspace(0,1,num=m))\n",
    "    phi , theta = np.meshgrid(phi, theta)\n",
    "    \n",
    "    X = r*np.sin(phi) * np.cos(theta)\n",
    "    Y = r*np.sin(phi) * np.sin(theta)\n",
    "    Z = r*np.cos(phi)\n",
    "#    print(np.shape(X))\n",
    "    X = np.reshape(X,(m**2))\n",
    "    Y = np.reshape(Y,(m**2))\n",
    "    Z = np.reshape(Z,(m**2))\n",
    "#    print(np.shape(X))\n",
    "    \n",
    "    data_sphere = np.array([X,Y,Z])\n",
    "    return data_sphere"
   ]
  },
  {
   "cell_type": "code",
   "execution_count": 4,
   "metadata": {},
   "outputs": [],
   "source": [
    "def return_ellipsoid_grid(m,x_stretch,y_stretch,z_stretch):\n",
    "    \n",
    "    theta = 2*np.pi*np.linspace(0,1,num=m)\n",
    "    phi = np.arccos(1 - 2 * np.linspace(0,1,num=m))\n",
    "    phi , theta = np.meshgrid(phi, theta)\n",
    "    \n",
    "    X = x_stretch*np.sin(phi) * np.cos(theta)\n",
    "    Y = y_stretch*np.sin(phi) * np.sin(theta)\n",
    "    Z = z_stretch*np.cos(phi)\n",
    "#    print(np.shape(X))\n",
    "    X = np.reshape(X,(m**2))\n",
    "    Y = np.reshape(Y,(m**2))\n",
    "    Z = np.reshape(Z,(m**2))\n",
    "#    print(np.shape(X))\n",
    "    \n",
    "    data_ellipsoid= np.array([X,Y,Z])\n",
    "    A = random_rotation_matrix()\n",
    "    for i in range(m**2):\n",
    "        data_ellipsoid[:,i] = np.matmul(A,data_ellipsoid[:,i])\n",
    "    return data_ellipsoid"
   ]
  },
  {
   "cell_type": "code",
   "execution_count": 5,
   "metadata": {},
   "outputs": [],
   "source": [
    "def return_sphere(r,m):\n",
    "    noise_parameter = 0.05 #amount of noise away from a true sphere.\n",
    "    x_eps = np.random.normal(size = m)*noise_parameter\n",
    "    y_eps = np.random.normal(size = m)*noise_parameter\n",
    "    z_eps = np.random.normal(size = m)*noise_parameter\n",
    "    # create dataset\n",
    "    \n",
    "    theta = 2*np.pi*np.random.uniform(low=0,high=1,size=m)\n",
    "    phi = np.arccos(1 - 2 * np.random.uniform(low=0,high=1,size=m))\n",
    "    X = r*(1+x_eps)*np.sin(phi) * np.cos(theta)\n",
    "    Y = r*(1+y_eps)*np.sin(phi) * np.sin(theta)\n",
    "    Z = r*(1+y_eps)*np.cos(phi)\n",
    "    \n",
    "    data_sphere = np.array([X,Y,Z])\n",
    "    return data_sphere\n",
    "def return_ellipsoid(m,x_stretch,y_stretch,z_stretch):\n",
    "    noise_parameter = 0.05 #amount of noise away from a true sphere.\n",
    "    a_x = x_stretch#x-direction stretch\n",
    "    b_y = y_stretch#y-direction stretch\n",
    "    c_z  = z_stretch#z-direction stretch\n",
    "    x_eps = np.random.normal(size = m)*noise_parameter\n",
    "    y_eps = np.random.normal(size = m)*noise_parameter\n",
    "    z_eps = np.random.normal(size = m)*noise_parameter\n",
    "    # create dataset\n",
    "    theta = 2*np.pi*np.random.uniform(low=0,high=1,size=m)\n",
    "    phi = np.arccos(1 - 2 * np.random.uniform(low=0,high=1,size=m))\n",
    "    X = a_x*(1+x_eps)*np.sin(phi) * np.cos(theta)\n",
    "    Y = b_y*(1+y_eps)*np.sin(phi) * np.sin(theta)\n",
    "    Z = c_z*(1+y_eps)*np.cos(phi)\n",
    "    data_ellipsoid = np.array([X,Y,Z])\n",
    "    A = random_rotation_matrix()\n",
    "    for i in range(m):\n",
    "        data_ellipsoid[:,i] = np.matmul(A,data_ellipsoid[:,i])\n",
    "    return data_ellipsoid"
   ]
  },
  {
   "cell_type": "code",
   "execution_count": 6,
   "metadata": {},
   "outputs": [],
   "source": [
    "training_data_size = 10000\n",
    "group_size = training_data_size//2\n",
    "data_size = 1024\n",
    "#print(np.shape(return_sphere(100)))\n",
    "training_set = np.zeros((training_data_size,3,data_size))\n",
    "for i in range(group_size):\n",
    "    training_set[i,:,:] = return_sphere(np.random.uniform(low = 1,high = 3),1024)\n",
    "    stretch_factor = np.random.uniform(low = 20,high = 30)\n",
    "    training_set[group_size+i,:,:] = return_ellipsoid_grid(1024,stretch_factor,1,1)\n",
    "#training_set[:group_size,:] = np.random.uniform(size =(group_size,data_size))\n",
    "#training_set[group_size:,:] = np.random.normal(size =(group_size,data_size))\n",
    "#print(training_set[0])\n",
    "training_set = np.random.permutation(training_set)\n",
    "#print(training_set[0])\n",
    "data_tensor = torch.FloatTensor(training_set)\n",
    "#print(data_tensor[-1])\n",
    "#x-stretch,y-stretch,z-stretch -> all in same data."
   ]
  },
  {
   "cell_type": "markdown",
   "metadata": {},
   "source": [
    "Training Data and Training Parameters"
   ]
  },
  {
   "cell_type": "code",
   "execution_count": 7,
   "metadata": {},
   "outputs": [],
   "source": [
    "#Note we can make BATCH_SIZE smaller than training data set then it \n",
    "#does iterative gradient steps.\n",
    "LEARNING_RATE = 1e-3\n",
    "NUM_ITERS = 100\n",
    "BATCH_SIZE = training_data_size"
   ]
  },
  {
   "cell_type": "code",
   "execution_count": 8,
   "metadata": {},
   "outputs": [
    {
     "name": "stdout",
     "output_type": "stream",
     "text": [
      "Autoencoder(\n",
      "  (enc1): Linear(in_features=1024, out_features=256, bias=True)\n",
      "  (enc2): Linear(in_features=256, out_features=32, bias=True)\n",
      "  (dec1): Linear(in_features=32, out_features=256, bias=True)\n",
      "  (dec2): Linear(in_features=256, out_features=1024, bias=True)\n",
      ")\n"
     ]
    },
    {
     "data": {
      "text/plain": [
       "tensor([[0.0356, 0.0013, 0.0000,  ..., 0.0538, 0.0000, 0.0000],\n",
       "        [0.0301, 0.0262, 0.0000,  ..., 0.0665, 0.0000, 0.0000],\n",
       "        [0.0277, 0.0214, 0.0000,  ..., 0.0546, 0.0000, 0.0000]],\n",
       "       grad_fn=<ReluBackward0>)"
      ]
     },
     "execution_count": 8,
     "metadata": {},
     "output_type": "execute_result"
    }
   ],
   "source": [
    "# Creating the architecture of the Neural Network\n",
    "\n",
    "class Autoencoder(nn.Module):\n",
    "    def __init__(self):\n",
    "        super(Autoencoder, self).__init__()\n",
    "        # encoder\n",
    "        self.enc1 = nn.Linear(in_features=data_size, out_features=256)\n",
    "        self.enc2 = nn.Linear(in_features = 256, out_features = 32)\n",
    "        # decoder\n",
    "        self.dec1 = nn.Linear(in_features = 32, out_features=256)\n",
    "        self.dec2 = nn.Linear(in_features = 256, out_features =data_size)\n",
    "    def forward(self, x):\n",
    "        x = F.relu(self.enc1(x))\n",
    "        x = F.relu(self.enc2(x))\n",
    "    \n",
    "\n",
    "        \n",
    "        x = F.relu(self.dec1(x))\n",
    "        x = F.relu(self.dec2(x))\n",
    "        return x\n",
    "net = Autoencoder()\n",
    "print(net)\n",
    "net(torch.rand(3,data_size))"
   ]
  },
  {
   "cell_type": "code",
   "execution_count": 9,
   "metadata": {},
   "outputs": [],
   "source": [
    "#using Mean Square Error as the Loss function.\n",
    "criterion = nn.MSELoss()\n",
    "optimizer = optim.Adam(net.parameters(), lr=LEARNING_RATE)"
   ]
  },
  {
   "cell_type": "code",
   "execution_count": null,
   "metadata": {},
   "outputs": [
    {
     "name": "stderr",
     "output_type": "stream",
     "text": [
      "/home/s2110992/anaconda3/lib/python3.7/site-packages/torch/autograd/__init__.py:132: UserWarning: CUDA initialization: Found no NVIDIA driver on your system. Please check that you have an NVIDIA GPU and installed a driver from http://www.nvidia.com/Download/index.aspx (Triggered internally at  /opt/conda/conda-bld/pytorch_1607370156314/work/c10/cuda/CUDAFunctions.cpp:100.)\n",
      "  allow_unreachable=True)  # allow_unreachable flag\n"
     ]
    },
    {
     "name": "stdout",
     "output_type": "stream",
     "text": [
      "running loss= 221716.18848896027 epoch =  0\n",
      "running loss= 210511.78508511186 epoch =  1\n",
      "running loss= 206385.8709320724 epoch =  2\n",
      "running loss= 203976.18825910985 epoch =  3\n",
      "running loss= 202762.03527857363 epoch =  4\n",
      "running loss= 198665.85215051472 epoch =  5\n",
      "running loss= 195858.88681676984 epoch =  6\n",
      "running loss= 194372.60432849824 epoch =  7\n"
     ]
    }
   ],
   "source": [
    "#Training Step!.\n",
    "loss_vector = np.zeros(NUM_ITERS)\n",
    "for epoch in range(NUM_ITERS):  # loop over the dataset multiple times\n",
    "\n",
    "    running_loss = 0.0\n",
    "    for i in range(training_data_size):\n",
    "        # get the inputs\n",
    "        inputs = data_tensor[i]\n",
    "\n",
    "        # zero the parameter gradients\n",
    "        optimizer.zero_grad()\n",
    "\n",
    "        # forward + backward + optimize\n",
    "        outputs = net(inputs)\n",
    "        loss = criterion(outputs, inputs)\n",
    "        loss.backward()\n",
    "        optimizer.step()\n",
    "\n",
    "        #summing loss to work out current loss.\n",
    "        running_loss += loss.item()\n",
    "    loss_vector[epoch] = running_loss\n",
    "    if (abs(loss_vector[epoch] - loss_vector[epoch - 5])< 0.01):\n",
    "        break\n",
    "    #if epoch%10 ==0:\n",
    "    print('running loss=',running_loss, 'epoch = ', epoch)\n",
    "    \n",
    "print('Finished Training')\n",
    "low_dim_feat = net.enc2(F.relu(net.enc1(torch.rand(data_size))))\n"
   ]
  },
  {
   "cell_type": "markdown",
   "metadata": {},
   "source": [
    "Cluster Feature Plot!"
   ]
  },
  {
   "cell_type": "code",
   "execution_count": null,
   "metadata": {},
   "outputs": [],
   "source": [
    "from mpl_toolkits.mplot3d import Axes3D\n",
    "number_of_points = 1000\n",
    "\n",
    "sphere_points = np.zeros((number_of_points,3,data_size))\n",
    "ellipsoid_points = np.zeros((number_of_points,3,data_size))\n",
    "sphere_labels = np.zeros(number_of_points)\n",
    "ellipsoid_labels = np.zeros(number_of_points)\n",
    "\n",
    "for i in range(number_of_points):\n",
    "    r = np.random.uniform(low = 1,high = 3)\n",
    "    sphere_points[i,:,:] = return_sphere(r,32)\n",
    "    sphere_labels[i]= r\n",
    "    stretch_factor = np.random.uniform(low = 20,high = 30)\n",
    "    ellipsoid_points[i,:,:] = return_ellipsoid(32,stretch_factor,1,1)\n",
    "    ellipsoid_labels[i] = stretch_factor\n",
    "    \n",
    "\n",
    "sphere_points = torch.FloatTensor(sphere_points)\n",
    "#3d points each feature and see if they split up.\n",
    "\n",
    "\n",
    "ellipsoid_points = torch.FloatTensor(ellipsoid_points)\n",
    "\n",
    "sphere_feature1 = np.zeros(number_of_points)\n",
    "sphere_feature2 = np.zeros(number_of_points)\n",
    "sphere_feature3 = np.zeros(number_of_points)\n",
    "\n",
    "ellipsoid_feature1 = np.zeros(number_of_points)\n",
    "ellipsoid_feature2 = np.zeros(number_of_points)\n",
    "ellipsoid_feature3 = np.zeros(number_of_points)\n",
    "\n",
    "feature_number = 1\n",
    "for i in range(number_of_points):\n",
    "    sphere_feature = net.enc2(F.relu(net.enc1(sphere_points[i])))\n",
    "    ellipsoid_feature = net.enc2(F.relu(net.enc1(ellipsoid_points[i])))\n",
    "    sphere_feature= sphere_feature.detach().numpy()\n",
    "    ellipsoid_feature = ellipsoid_feature.detach().numpy()\n",
    "    sphere_feature1[i] = sphere_feature[0][feature_number]\n",
    "    sphere_feature2[i] = sphere_feature[1][feature_number]\n",
    "    sphere_feature3[i] = sphere_feature[2][feature_number]\n",
    "    ellipsoid_feature1[i] = ellipsoid_feature[0][feature_number]\n",
    "    ellipsoid_feature2[i] = ellipsoid_feature[1][feature_number]\n",
    "    ellipsoid_feature3[i] = ellipsoid_feature[2][feature_number]\n",
    "print(sphere_feature)\n",
    "#m, b = np. polyfit(normal_feature1, normal_feature2, 1)  \n",
    "plt.figure()\n",
    "#3d plot\n",
    "ax = plt.axes(projection='3d')\n",
    "\n",
    "ax.scatter(sphere_feature1,sphere_feature2,sphere_feature3,label='Sphere')\n",
    "ax.scatter(ellipsoid_feature1,ellipsoid_feature2,ellipsoid_feature3,label = 'Ellipsoid')\n",
    "\n",
    "\n",
    "\n",
    "\n",
    "ax.set_title('Feature 1 of 32')\n",
    "ax.set_xlabel('x')\n",
    "ax.set_ylabel('y')\n",
    "ax.set_zlabel('z')\n",
    "ax.legend()\n",
    "plt.savefig('feature1-32-Nodes-Random.png')\n",
    "#plt.figure()\n",
    "#plt.plot(sphere_feature2,sphere_feature3,'r.',label = 'Sphere')\n",
    "#plt.plot(ellipsoid_feature2,ellipsoid_feature3,'b.',label = 'Ellipsoid')\n"
   ]
  },
  {
   "cell_type": "code",
   "execution_count": null,
   "metadata": {},
   "outputs": [],
   "source": [
    "plt.figure()\n",
    "ax = plt.axes(projection='3d')\n",
    "\n",
    "\n",
    "\n",
    "sc = ax.scatter(ellipsoid_feature1,ellipsoid_feature2,ellipsoid_feature3,c = ellipsoid_labels,label = 'Ellipsoid')\n",
    "cm = plt.cm.get_cmap('RdYlBu')\n",
    "ax.set_title('Ellipsoid colored according to Major Axis length')\n",
    "ax.set_xlabel('x')\n",
    "ax.set_ylabel('y')\n",
    "ax.set_zlabel('z')\n",
    "#ax.legend()\n",
    "#loc = np.arange(0,max(label_sphere),max(label_sphere)/float(len(colors)))\n",
    "#cb.set_ticks(loc)\n",
    "#cb.set_ticklabels(colors)\n",
    "#plt.scatter(ellipsoid_feature1,ellipsoid_feature2,'r.',label='Ellipsoids')\n",
    "plt.colorbar(sc)\n",
    "plt.show()\n",
    "plt.savefig('feature1-32-Nodes-Ellipsoid-Stretch-Colour-.png')"
   ]
  },
  {
   "cell_type": "code",
   "execution_count": null,
   "metadata": {},
   "outputs": [],
   "source": [
    "plt.figure()\n",
    "ax = plt.axes(projection='3d')\n",
    "\n",
    "\n",
    "\n",
    "sc = ax.scatter(sphere_feature1,sphere_feature2,sphere_feature3,c = sphere_labels,label='Sphere')\n",
    "cm = plt.cm.get_cmap('RdYlBu')\n",
    "ax.set_title('Spheres colored according to Radius')\n",
    "ax.set_xlabel('x')\n",
    "ax.set_ylabel('y')\n",
    "ax.set_zlabel('z')\n",
    "#ax.legend()\n",
    "#loc = np.arange(0,max(label_sphere),max(label_sphere)/float(len(colors)))\n",
    "#cb.set_ticks(loc)\n",
    "#cb.set_ticklabels(colors)\n",
    "#plt.scatter(ellipsoid_feature1,ellipsoid_feature2,'r.',label='Ellipsoids')\n",
    "plt.colorbar(sc)\n",
    "plt.show()\n",
    "plt.savefig('feature1-32-Nodes-Sphere-Radii-Colour-Lattice.png')"
   ]
  },
  {
   "cell_type": "markdown",
   "metadata": {},
   "source": [
    "Plot reconstructions!"
   ]
  },
  {
   "cell_type": "code",
   "execution_count": null,
   "metadata": {},
   "outputs": [],
   "source": [
    "plt.figure()\n",
    "bins = np.linspace(-800, 0, 800)\n",
    "plt.hist(sphere_feature3,bins,color = 'blue', label = 'Sphere Data')\n",
    "plt.hist(ellipsoid_feature3,bins,color = 'red',label = 'Ellipsoid Data')\n",
    "\n",
    "plt.legend(loc='upper right')\n",
    "plt.show() #make the bar sizes the same!\n"
   ]
  },
  {
   "cell_type": "code",
   "execution_count": null,
   "metadata": {},
   "outputs": [],
   "source": [
    "from mpl_toolkits.mplot3d import Axes3D\n",
    "[X,Y,Z] = return_sphere_grid(2,32)\n",
    "fig = plt.figure()\n",
    "ax = plt.axes(projection='3d')\n",
    "ax.scatter(X,Y,Z)"
   ]
  },
  {
   "cell_type": "code",
   "execution_count": null,
   "metadata": {},
   "outputs": [],
   "source": [
    "sphere = [X,Y,Z]\n",
    "sphere = torch.FloatTensor(sphere)\n",
    "A = net(sphere)\n",
    "[Xcon,Ycon,Zcon] = A.detach().numpy()\n",
    "fig = plt.figure()\n",
    "ax = plt.axes(projection='3d')\n",
    "ax.scatter(Xcon,Ycon,Zcon)"
   ]
  },
  {
   "cell_type": "code",
   "execution_count": null,
   "metadata": {},
   "outputs": [],
   "source": [
    "stretch_factor = 8\n",
    "[X,Y,Z] = return_ellipsoid(data_size,stretch_factor,1,1)\n",
    "fig = plt.figure()\n",
    "ax = plt.axes(projection='3d')\n",
    "ax.scatter(X,Y,Z)"
   ]
  },
  {
   "cell_type": "code",
   "execution_count": null,
   "metadata": {},
   "outputs": [],
   "source": [
    "ellipsoid = [X,Y,Z]\n",
    "ellipsoid = torch.FloatTensor(ellipsoid)\n",
    "A = net(ellipsoid)\n",
    "[Xcon,Ycon,Zcon] = A.detach().numpy()\n",
    "fig = plt.figure()\n",
    "ax = plt.axes(projection='3d')\n",
    "ax.scatter(Xcon,Ycon,Zcon)"
   ]
  },
  {
   "cell_type": "code",
   "execution_count": null,
   "metadata": {},
   "outputs": [],
   "source": []
  }
 ],
 "metadata": {
  "kernelspec": {
   "display_name": "Python 3",
   "language": "python",
   "name": "python3"
  },
  "language_info": {
   "codemirror_mode": {
    "name": "ipython",
    "version": 3
   },
   "file_extension": ".py",
   "mimetype": "text/x-python",
   "name": "python",
   "nbconvert_exporter": "python",
   "pygments_lexer": "ipython3",
   "version": "3.8.3"
  }
 },
 "nbformat": 4,
 "nbformat_minor": 4
}
