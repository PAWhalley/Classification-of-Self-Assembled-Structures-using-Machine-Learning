{
 "cells": [
  {
   "cell_type": "code",
   "execution_count": 1,
   "metadata": {},
   "outputs": [],
   "source": [
    "# Import numpy+extensions, i/o functions, preprocessing, and visualization.\n",
    "import numpy as numx\n",
    "import pydeep.base.numpyextension as numxext\n",
    "import pydeep.misc.io as io\n",
    "import pydeep.preprocessing as pre\n",
    "import pydeep.misc.visualization as vis\n",
    "\n",
    "# Model imports: RBM estimator, model and trainer module\n",
    "import pydeep.rbm.estimator as estimator\n",
    "import pydeep.rbm.model as model\n",
    "import pydeep.rbm.trainer as trainer\n",
    "\n",
    "import numpy as np\n",
    "import torch\n",
    "import matplotlib.pyplot as plt"
   ]
  },
  {
   "cell_type": "code",
   "execution_count": 2,
   "metadata": {},
   "outputs": [],
   "source": [
    "# Set random seed (optional)\n",
    "# (optional, if stochastic processes are involved we get the same results)\n",
    "numx.random.seed(42)"
   ]
  },
  {
   "cell_type": "code",
   "execution_count": 3,
   "metadata": {
    "scrolled": true
   },
   "outputs": [],
   "source": [
    "# ####### Load data (download is not existing)\n",
    "# data = io.load_natural_image_patches('NaturalImage.mat')\n",
    "# print(type(data))\n",
    "# print(np.shape(data))"
   ]
  },
  {
   "cell_type": "code",
   "execution_count": 4,
   "metadata": {},
   "outputs": [],
   "source": [
    "training_data_size = 10000\n",
    "group_size = training_data_size//2\n",
    "data_size = 100\n",
    "data = []\n",
    "data = np.zeros((training_data_size,data_size))\n",
    "data[:group_size,:] = np.random.uniform(size =(group_size,data_size))\n",
    "data[group_size:,:] = np.random.normal(loc = 0.5, size =(group_size,data_size))\n",
    "data = np.random.permutation(data)\n",
    "#data = torch.FloatTensor(training_set)\n",
    "#data = training_set\n",
    "#print(np.shape(data))"
   ]
  },
  {
   "cell_type": "code",
   "execution_count": 5,
   "metadata": {},
   "outputs": [],
   "source": [
    "######## Remove the mean of ech image patch separately (also works without)\n",
    "#data = pre.remove_rows_means(data)\n",
    "\n",
    "# Set input/output dimensions\n",
    "v1 = 100\n",
    "v2 = 1\n",
    "h1 = 2\n",
    "h2 = 1\n",
    "\n",
    "# # Whiten data using ZCA\n",
    "# zca = pre.ZCA(v1 * v2)\n",
    "# zca.train(data)\n",
    "# data = zca.project(data)"
   ]
  },
  {
   "cell_type": "code",
   "execution_count": 6,
   "metadata": {},
   "outputs": [],
   "source": [
    "# Split into training/test data\n",
    "train_data = data[0:5000]\n",
    "test_data = data[5000:10000]\n",
    "\n",
    "# Set restriction factor, learning rate, batch size and maximal number of epochs\n",
    "restrict = 0.01 * numx.max(numxext.get_norms(train_data, axis=1))\n",
    "eps = 0.1\n",
    "batch_size = 100\n",
    "max_epochs = 200"
   ]
  },
  {
   "cell_type": "code",
   "execution_count": 7,
   "metadata": {},
   "outputs": [],
   "source": [
    "# Create model, initial weights=Glorot init., initial sigma=1.0, initial bias=0,\n",
    "# no centering (Usually pass the data=training_data for a automatic init. that is\n",
    "# set the bias and sigma to the data mean and data std. respectively, for\n",
    "# whitened data centering is not an advantage)\n",
    "rbm = model.GaussianBinaryVarianceRBM(number_visibles=v1 * v2,\n",
    "                                      number_hiddens=h1 * h2,\n",
    "                                      initial_weights='AUTO',\n",
    "                                      initial_visible_bias=0,\n",
    "                                      initial_hidden_bias=0,\n",
    "                                      initial_sigma=1.0,\n",
    "                                      initial_visible_offsets=0.0,\n",
    "                                      initial_hidden_offsets=0.0,\n",
    "                                      dtype=numx.float64)\n",
    "\n",
    "# Set the hidden bias such that the scaling factor is 0.01\n",
    "rbm.bh = -(numxext.get_norms(rbm.w + rbm.bv.T, axis=0) - numxext.get_norms(\n",
    "    rbm.bv, axis=None)) / 2.0 + numx.log(0.01)\n",
    "rbm.bh = rbm.bh.reshape(1, h1 * h2)"
   ]
  },
  {
   "cell_type": "code",
   "execution_count": 8,
   "metadata": {
    "scrolled": true
   },
   "outputs": [
    {
     "name": "stdout",
     "output_type": "stream",
     "text": [
      "Training\n",
      "Epoch\tRE train\tRE test\n",
      "    0 \t0.78923 \t0.79262\n",
      "   10 \t0.53888 \t0.54433\n",
      "   20 \t0.53829 \t0.54376\n",
      "   30 \t0.53818 \t0.54380\n",
      "   40 \t0.53830 \t0.54416\n",
      "   50 \t0.53822 \t0.54387\n",
      "   60 \t0.53835 \t0.54402\n",
      "   70 \t0.53802 \t0.54378\n",
      "   80 \t0.53854 \t0.54435\n",
      "   90 \t0.53840 \t0.54429\n",
      "  100 \t0.53814 \t0.54408\n",
      "  110 \t0.53806 \t0.54386\n",
      "  120 \t0.53818 \t0.54428\n",
      "  130 \t0.53835 \t0.54418\n",
      "  140 \t0.53833 \t0.54429\n",
      "  150 \t0.53812 \t0.54405\n",
      "  160 \t0.53817 \t0.54398\n",
      "  170 \t0.53825 \t0.54427\n",
      "  180 \t0.53828 \t0.54435\n",
      "  190 \t0.53832 \t0.54429\n",
      "  200 \t0.53810 \t0.54413\n"
     ]
    }
   ],
   "source": [
    "# Training with CD-1\n",
    "k = 1\n",
    "trainer_cd = trainer.CD(rbm)\n",
    "\n",
    "# Train model, status every 10th epoch\n",
    "step = 10\n",
    "print('Training')\n",
    "print('Epoch\\tRE train\\tRE test')\n",
    "for epoch in range(0, max_epochs + 1, 1):\n",
    "\n",
    "    # Shuffle training samples (optional)\n",
    "    train_data = numx.random.permutation(train_data)\n",
    "\n",
    "    # Print epoch and reconstruction errors every 'step' epochs.\n",
    "    if epoch % step == 0:\n",
    "        RE_train = numx.mean(estimator.reconstruction_error(rbm, train_data))\n",
    "        RE_test = numx.mean(estimator.reconstruction_error(rbm, test_data))\n",
    "        print('%5d \\t%0.5f \\t%0.5f' % (epoch, RE_train, RE_test))\n",
    "\n",
    "    # Train one epoch with gradient restriction/clamping\n",
    "    # No weight decay, momentum or sparseness is used\n",
    "    for b in range(0, train_data.shape[0], batch_size):\n",
    "        trainer_cd.train(data=train_data[b:(b + batch_size), :],\n",
    "                         num_epochs=1,\n",
    "                         epsilon=[eps, 0.0, eps, eps * 0.1],\n",
    "                         k=k,\n",
    "                         momentum=0.0,\n",
    "                         reg_l1norm=0.0,\n",
    "                         reg_l2norm=0.0,\n",
    "                         reg_sparseness=0,\n",
    "                         desired_sparseness=None,\n",
    "                         update_visible_offsets=0.0,\n",
    "                         update_hidden_offsets=0.0,\n",
    "                         offset_typ='00',\n",
    "                         restrict_gradient=restrict,\n",
    "                         restriction_norm='Cols',\n",
    "                         use_hidden_states=False,\n",
    "                         use_centered_gradient=False)\n"
   ]
  },
  {
   "cell_type": "code",
   "execution_count": 9,
   "metadata": {},
   "outputs": [
    {
     "name": "stdout",
     "output_type": "stream",
     "text": [
      "2\n"
     ]
    }
   ],
   "source": [
    "# print(rbm.w)\n",
    "# print(rbm.bh)\n",
    "print(rbm.output_dim)"
   ]
  },
  {
   "cell_type": "code",
   "execution_count": 20,
   "metadata": {},
   "outputs": [
    {
     "data": {
      "image/png": "[encoded data removed]",
      "text/plain": [
       "<Figure size 432x288 with 1 Axes>"
      ]
     },
     "metadata": {
      "needs_background": "light"
     },
     "output_type": "display_data"
    }
   ],
   "source": [
    "from pydeep.base.activationfunction import Sigmoid\n",
    "import pydeep.rbm.dbn as dbn\n",
    "number_of_points = 1000\n",
    "\n",
    "uniform_points = np.random.uniform(size =(number_of_points,data_size))\n",
    "# uniform_points = torch.FloatTensor(uniform_points)\n",
    "normal_points = np.random.normal(loc = 0.5,size =(number_of_points,data_size))\n",
    "# normal_points = torch.FloatTensor(normal_points)\n",
    "\n",
    "normal_feature1 = np.zeros(number_of_points)\n",
    "normal_feature2 = np.zeros(number_of_points)\n",
    "\n",
    "uniform_feature1 = np.zeros(number_of_points)\n",
    "uniform_feature2 = np.zeros(number_of_points)\n",
    "\n",
    "# print(type(uniform_points))\n",
    "\n",
    "for i in range(number_of_points):\n",
    "\n",
    "    uniform_feature = Sigmoid.f(numx.dot(rbm.w.T,uniform_points[i])+ rbm.bv.T)   \n",
    "    normal_feature =  Sigmoid.f(numx.dot(rbm.w.T,normal_points[i]) + rbm.bv.T)\n",
    "    \n",
    "###    uniform_feature = dbn.forward_propagate(uniform_points[i], sample=False)\n",
    "###    normal_feature = dbn.forward_propagate(normal_points[i], sample=False)\n",
    "###    uniform_feature= uniform_feature.detach().numpy()\n",
    "###    normal_feature = normal_feature.detach().numpy()\n",
    "#    normal_feature1[i] = normal_feature1[i].bcast(1,2)\n",
    "\n",
    "    normal_feature1[i] = normal_feature[0,0]\n",
    "    normal_feature2[i] = normal_feature[0,1]\n",
    "    uniform_feature1[i] = uniform_feature[0,0]\n",
    "    uniform_feature2[i] = uniform_feature[0,1]\n",
    "    \n",
    "plt.figure()\n",
    "plt.xlabel('Feature Parameter 1')\n",
    "plt.ylabel('Feature Parameter 2')\n",
    "plt.plot(normal_feature1,normal_feature2,'r.')\n",
    "plt.plot(uniform_feature1,uniform_feature2,'b.')\n",
    "plt.show()\n",
    "\n",
    "##print(np.size(uniform_feature))"
   ]
  },
  {
   "cell_type": "code",
   "execution_count": 18,
   "metadata": {},
   "outputs": [
    {
     "name": "stdout",
     "output_type": "stream",
     "text": [
      "shape(rbm.w.T) =  (2, 100)\n",
      "shape(rbm.bv) =  (1, 100)\n",
      "shape(uniform_points[0]) =  (100,)\n",
      "shape(a)= (100, 2)\n"
     ]
    }
   ],
   "source": [
    "print(\"shape(rbm.w.T) = \", np.shape(rbm.w.T))\n",
    "print(\"shape(rbm.bv) = \" , np.shape(rbm.bv))\n",
    "uniform_points[0].reshape(1,100)\n",
    "print(\"shape(uniform_points[0]) = \" ,np.shape(uniform_points[0]))\n",
    "a = Sigmoid.f(numx.dot(rbm.w.T,uniform_points[i])+ rbm.bv.T)\n",
    "print('shape(a)=', np.shape(a))"
   ]
  },
  {
   "cell_type": "code",
   "execution_count": 19,
   "metadata": {},
   "outputs": [
    {
     "data": {
      "image/png": "[encoded data removed]",
      "text/plain": [
       "<Figure size 432x288 with 1 Axes>"
      ]
     },
     "metadata": {
      "needs_background": "light"
     },
     "output_type": "display_data"
    }
   ],
   "source": [
    "plt.figure()\n",
    "bins = np.linspace(0, 1, 100)\n",
    "plt.hist(normal_feature2,bins,color = 'red',label = 'Normally Distributed Data')\n",
    "plt.hist(uniform_feature2,bins,color = 'blue', label = 'Uniformly Distributed Data')\n",
    "plt.legend(loc='upper right')\n",
    "plt.show() #make the bar sizes the same!"
   ]
  },
  {
   "cell_type": "code",
   "execution_count": null,
   "metadata": {},
   "outputs": [],
   "source": []
  }
 ],
 "metadata": {
  "kernelspec": {
   "display_name": "Python 3",
   "language": "python",
   "name": "python3"
  },
  "language_info": {
   "codemirror_mode": {
    "name": "ipython",
    "version": 3
   },
   "file_extension": ".py",
   "mimetype": "text/x-python",
   "name": "python",
   "nbconvert_exporter": "python",
   "pygments_lexer": "ipython3",
   "version": "3.7.4"
  }
 },
 "nbformat": 4,
 "nbformat_minor": 2
}
